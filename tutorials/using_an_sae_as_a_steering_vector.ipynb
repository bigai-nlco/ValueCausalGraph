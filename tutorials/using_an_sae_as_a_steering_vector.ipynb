{
  "cells": [
    {
      "cell_type": "markdown",
      "metadata": {
        "id": "GoXn14ltnGh3"
      },
      "source": [
        "# Using an SAE as a steering vector\n",
        "\n",
        "This notebook demonstrates how to use SAE lens to identify a feature on a pretrained model, and then construct a steering vector to affect the models output to various prompts. This notebook will also make use of Neuronpedia for identifying features of interest.\n",
        "\n",
        "The steps below include:\n",
        "\n",
        "\n",
        "\n",
        "*   Installing relevant packages (Colab or locally)\n",
        "*   Load your SAE and the model it used\n",
        "*   Determining your feature of interest and its index\n",
        "*   Implementing your steering vector\n",
        "\n",
        "\n",
        "\n"
      ]
    },
    {
      "cell_type": "markdown",
      "metadata": {
        "id": "gf3lJYPEXh0v"
      },
      "source": [
        "## Setting up packages and notebook"
      ]
    },
    {
      "cell_type": "markdown",
      "metadata": {
        "id": "l9k5iGyOXtuN"
      },
      "source": [
        "### Import and installs"
      ]
    },
    {
      "cell_type": "markdown",
      "metadata": {
        "id": "fapxk8MDrs6R"
      },
      "source": [
        "#### Environment Setup\n"
      ]
    },
    {
      "cell_type": "code",
      "execution_count": 1,
      "metadata": {
        "colab": {
          "base_uri": "https://localhost:8080/"
        },
        "collapsed": true,
        "id": "0TwNmRkRUgR7",
        "outputId": "ffeb827a-9af2-4b09-b8dd-78e0d594ddf6"
      },
      "outputs": [],
      "source": [
        "try:\n",
        "  # for google colab users\n",
        "    import google.colab # type: ignore\n",
        "    from google.colab import output\n",
        "    COLAB = True\n",
        "    %pip install sae-lens transformer-lens\n",
        "except:\n",
        "  # for local setup\n",
        "    COLAB = False\n",
        "    from IPython import get_ipython # type: ignore\n",
        "    ipython = get_ipython(); assert ipython is not None\n",
        "    ipython.run_line_magic(\"load_ext\", \"autoreload\")\n",
        "    ipython.run_line_magic(\"autoreload\", \"2\")\n",
        "\n",
        "# Imports for displaying vis in Colab / notebook\n",
        "import webbrowser\n",
        "import http.server\n",
        "import socketserver\n",
        "import threading\n",
        "PORT = 8000\n",
        "\n",
        "# general imports\n",
        "import os\n",
        "import torch\n",
        "from tqdm import tqdm\n",
        "import plotly.express as px\n",
        "\n",
        "torch.set_grad_enabled(False);"
      ]
    },
    {
      "cell_type": "code",
      "execution_count": 2,
      "metadata": {
        "id": "NGgIu1ZVYDub"
      },
      "outputs": [],
      "source": [
        "def display_vis_inline(filename: str, height: int = 850):\n",
        "    '''\n",
        "    Displays the HTML files in Colab. Uses global `PORT` variable defined in prev cell, so that each\n",
        "    vis has a unique port without having to define a port within the function.\n",
        "    '''\n",
        "    if not(COLAB):\n",
        "        webbrowser.open(filename);\n",
        "\n",
        "    else:\n",
        "        global PORT\n",
        "\n",
        "        def serve(directory):\n",
        "            os.chdir(directory)\n",
        "\n",
        "            # Create a handler for serving files\n",
        "            handler = http.server.SimpleHTTPRequestHandler\n",
        "\n",
        "            # Create a socket server with the handler\n",
        "            with socketserver.TCPServer((\"\", PORT), handler) as httpd:\n",
        "                print(f\"Serving files from {directory} on port {PORT}\")\n",
        "                httpd.serve_forever()\n",
        "\n",
        "        thread = threading.Thread(target=serve, args=(\"/content\",))\n",
        "        thread.start()\n",
        "\n",
        "        output.serve_kernel_port_as_iframe(PORT, path=f\"/{filename}\", height=height, cache_in_notebook=True)\n",
        "\n",
        "        PORT += 1"
      ]
    },
    {
      "cell_type": "markdown",
      "metadata": {
        "id": "CmaPYLpGrxbo"
      },
      "source": [
        "#### General Installs and device setup"
      ]
    },
    {
      "cell_type": "code",
      "execution_count": 3,
      "metadata": {
        "colab": {
          "base_uri": "https://localhost:8080/"
        },
        "id": "tdUm9rZKr1Qb",
        "outputId": "9b73b762-1356-437b-8925-91c514093b43"
      },
      "outputs": [
        {
          "name": "stdout",
          "output_type": "stream",
          "text": [
            "Device: cuda\n"
          ]
        }
      ],
      "source": [
        "# package import\n",
        "from torch import Tensor\n",
        "from transformer_lens import utils\n",
        "from functools import partial\n",
        "from jaxtyping import Int, Float\n",
        "\n",
        "# device setup\n",
        "if torch.backends.mps.is_available():\n",
        "    device = \"mps\"\n",
        "else:\n",
        "    device = \"cuda\" if torch.cuda.is_available() else \"cpu\"\n",
        "\n",
        "print(f\"Device: {device}\")"
      ]
    },
    {
      "cell_type": "markdown",
      "metadata": {
        "id": "lsB0qORUaXiK"
      },
      "source": [
        "### Load your model and SAE\n",
        "\n",
        "We're going to work with a pretrained GPT2-small model, and the RES-JB SAE set which is for the residual stream."
      ]
    },
    {
      "cell_type": "code",
      "execution_count": 4,
      "metadata": {
        "colab": {
          "base_uri": "https://localhost:8080/"
        },
        "collapsed": true,
        "id": "bCvNtm1OOhlR",
        "outputId": "e6fd27ab-ee94-46ec-a07e-ee48c8f30da3"
      },
      "outputs": [
        {
          "name": "stderr",
          "output_type": "stream",
          "text": [
            "`config.hidden_act` is ignored, you should use `config.hidden_activation` instead.\n",
            "Gemma's activation function will be set to `gelu_pytorch_tanh`. Please, use\n",
            "`config.hidden_activation` if you want to override this behaviour.\n",
            "See https://github.com/huggingface/transformers/pull/29402 for more details.\n"
          ]
        },
        {
          "data": {
            "application/vnd.jupyter.widget-view+json": {
              "model_id": "b7bf6ff722454188856b1226294a1295",
              "version_major": 2,
              "version_minor": 0
            },
            "text/plain": [
              "Loading checkpoint shards:   0%|          | 0/2 [00:00<?, ?it/s]"
            ]
          },
          "metadata": {},
          "output_type": "display_data"
        },
        {
          "name": "stderr",
          "output_type": "stream",
          "text": [
            "WARNING:root:You are not using LayerNorm, so the writing weights can't be centered! Skipping\n"
          ]
        },
        {
          "name": "stdout",
          "output_type": "stream",
          "text": [
            "Loaded pretrained model gemma-2b-it into HookedTransformer\n",
            "blocks.12.hook_resid_post\n"
          ]
        }
      ],
      "source": [
        "from sae_lens import SAE\n",
        "from sae_lens.toolkit.pretrained_saes import get_gpt2_res_jb_saes\n",
        "from sae_lens.config import DTYPE_MAP, LOCAL_SAE_MODEL_PATH\n",
        "from sae_lens.analysis.neuronpedia_integration import get_neuronpedia_quick_list\n",
        "from transformers import AutoModelForCausalLM, AutoTokenizer, pipeline, BitsAndBytesConfig\n",
        "from transformer_lens import HookedTransformer\n",
        "\n",
        "hf_model = AutoModelForCausalLM.from_pretrained(os.path.join(LOCAL_SAE_MODEL_PATH, \"google\", \"gemma-2b-it\"))\n",
        "hf_tokenizer = AutoTokenizer.from_pretrained(os.path.join(LOCAL_SAE_MODEL_PATH, \"google\", \"gemma-2b-it\"), padding_side='left')\n",
        "model = HookedTransformer.from_pretrained(\"gemma-2b-it\", tokenizer=hf_tokenizer, hf_model=hf_model, default_padding_side='left', device=device)\n",
        "sae, original_cfg_dict, sparsity = SAE.from_pretrained(\n",
        "    release=\"gemma-2b-it-res-jb\",\n",
        "    sae_id=\"blocks.12.hook_resid_post\",\n",
        "    device= device,\n",
        ")\n",
        "\n",
        "# hf_model = AutoModelForCausalLM.from_pretrained(os.path.join(LOCAL_SAE_MODEL_PATH, \"google\", \"gemma-2b\"))\n",
        "# hf_tokenizer = AutoTokenizer.from_pretrained(os.path.join(LOCAL_SAE_MODEL_PATH, \"google\", \"gemma-2b\"), padding_side='left')\n",
        "# model = HookedTransformer.from_pretrained(\"gemma-2b\", tokenizer=hf_tokenizer, hf_model=hf_model, default_padding_side='left', device=device)\n",
        "# sae, original_cfg_dict, sparsity = SAE.from_pretrained(\n",
        "#     release=\"gemma-2b-res-jb\",\n",
        "#     sae_id=\"blocks.6.hook_resid_post\",\n",
        "#     device= device,\n",
        "# )\n",
        "\n",
        "# get hook point\n",
        "hook_point = sae.cfg.hook_name\n",
        "print(hook_point)"
      ]
    },
    {
      "cell_type": "markdown",
      "metadata": {
        "id": "NkAAoyFbu5a5"
      },
      "source": [
        "## Determine your feature of interest and its index"
      ]
    },
    {
      "cell_type": "markdown",
      "metadata": {
        "id": "DkQNvdd54q4S"
      },
      "source": [
        "### Find your feature"
      ]
    },
    {
      "cell_type": "markdown",
      "metadata": {
        "id": "wzeY2D13xRjY"
      },
      "source": [
        "#### Explore through code by using the feature activations for a prompt\n",
        "\n",
        "For the purpose of the tutorial, we are selecting a simple token prompt.\n",
        "\n",
        "In this example we will look trying to find and steer a \"Jedi\" feature.\n",
        "\n",
        "We run our prompt on our model and get the cache, which we then use with our sae to get our feature activations.\n",
        "\n",
        "Now we'll look at the top feature activations and look them up on Neuronpedia to determine what they have been intepreted as."
      ]
    },
    {
      "cell_type": "code",
      "execution_count": 5,
      "metadata": {
        "colab": {
          "base_uri": "https://localhost:8080/"
        },
        "id": "IIrdJ36mlXgB",
        "outputId": "c4014b87-3af6-4c27-8f79-3b5a3c2c03dc"
      },
      "outputs": [
        {
          "name": "stdout",
          "output_type": "stream",
          "text": [
            "[(1312, 24), (12703, 24), (1235, 17), (3183, 15), (428, 13), (363, 13), (7343, 12), (7531, 12), (10123, 12), (5827, 11), (6962, 11), (9421, 11), (2190, 10), (6216, 10), (12308, 10), (15083, 10), (15750, 10), (3698, 10), (11214, 10), (15945, 9), (2233, 9), (8527, 9), (11558, 9), (3231, 9), (4985, 8), (16101, 8), (8164, 8), (6619, 7), (10454, 7), (11759, 7), (8709, 7), (12431, 7), (16028, 6), (1663, 6), (14491, 6), (9788, 6), (8090, 6), (13052, 6), (2372, 6), (12288, 6), (10535, 6), (1918, 5), (2221, 5), (876, 5), (8816, 5), (1018, 5), (13700, 5), (15603, 5), (9487, 5), (7358, 5), (15782, 5), (711, 4), (9516, 4), (3772, 4), (6130, 4), (8154, 4), (3233, 4), (5249, 4), (15391, 4), (780, 4), (1967, 4), (7502, 4), (10382, 4), (10715, 4), (4590, 4), (12663, 4), (1831, 3), (9158, 3), (10583, 3), (6395, 3), (10862, 3), (10997, 3), (12109, 3), (11048, 3), (2336, 3), (13416, 3), (14630, 3), (15948, 3), (2318, 3), (5665, 3), (12746, 3), (5547, 3), (6294, 3), (7117, 3), (8674, 3), (10009, 3), (246, 3), (15061, 3), (6124, 3), (6281, 3), (8079, 3), (10122, 3), (981, 3), (1078, 3), (3402, 3), (5165, 3), (6817, 3), (8949, 3), (12776, 3), (14151, 3), (897, 3), (268, 3), (5882, 3), (7179, 3), (7585, 3), (3661, 3), (12513, 3), (12593, 3), (13666, 3), (4301, 2), (5418, 2), (5563, 2), (9622, 2), (11177, 2), (11783, 2), (14982, 2), (2495, 2), (3004, 2), (6242, 2), (6669, 2), (6823, 2), (8325, 2), (10006, 2), (11148, 2), (14085, 2), (15958, 2), (15091, 2), (1910, 2), (14257, 2), (2436, 2), (7234, 2), (8170, 2), (8594, 2), (13340, 2), (585, 2), (861, 2), (2516, 2), (7211, 2), (10297, 2), (156, 2), (1975, 2), (13949, 2), (1352, 2), (3235, 2), (8370, 2), (8565, 2), (9231, 2), (13549, 2), (16137, 2), (4187, 2), (7597, 2), (11621, 2), (12312, 2), (14783, 2), (15164, 2), (15288, 2), (1358, 2), (2734, 2), (3351, 2), (3853, 2), (5504, 2), (7545, 2), (9103, 2), (15216, 2), (154, 2), (2811, 2), (3711, 2), (4018, 2), (5394, 2), (8701, 2), (9385, 2), (10387, 2), (11672, 2), (14727, 2), (573, 2), (2468, 2), (3404, 2), (4871, 2), (5806, 2), (7838, 2), (9324, 2), (10644, 2), (12017, 2), (12361, 2), (13770, 2), (14399, 2), (14604, 2), (14970, 2), (15928, 2), (8605, 2), (924, 2), (3142, 2), (7722, 2), (9546, 2), (11187, 2), (13818, 2), (1025, 2), (1003, 2), (4292, 2), (4863, 2), (6875, 2), (7068, 2), (12894, 2), (13917, 2), (15541, 2), (3367, 2), (3679, 2), (7357, 2), (9287, 2), (11046, 2), (14010, 2), (13030, 2), (14351, 2), (3896, 2), (4752, 2), (10101, 2), (11427, 2), (16067, 2), (1172, 2), (2701, 2), (5515, 2), (8791, 2), (12303, 2), (12733, 2), (13396, 2), (15477, 2), (15610, 2), (127, 2), (2636, 2), (3332, 2), (3764, 2), (5581, 2), (6577, 2), (8194, 2), (12533, 2), (13020, 2), (2370, 2), (4597, 2), (6390, 2), (11110, 2), (11331, 2), (12616, 2), (14837, 2), (15500, 2), (3793, 2), (13951, 2), (25, 1), (38, 1), (392, 1), (903, 1), (1046, 1), (1100, 1), (1111, 1), (1245, 1), (1247, 1), (1259, 1), (1345, 1), (1346, 1), (1365, 1), (1540, 1), (1601, 1), (1602, 1), (1705, 1), (1773, 1), (1776, 1), (1925, 1), (2088, 1), (2091, 1), (2159, 1), (2168, 1), (2520, 1), (2634, 1), (2763, 1), (2836, 1), (2841, 1), (2961, 1), (2995, 1), (3057, 1), (3211, 1), (3225, 1), (3241, 1), (3368, 1), (3587, 1), (3721, 1), (3736, 1), (3763, 1), (3980, 1), (4019, 1), (4153, 1), (4300, 1), (4459, 1), (4775, 1), (4783, 1), (4870, 1), (4941, 1), (4949, 1), (4958, 1), (5333, 1), (5764, 1), (5777, 1), (5954, 1), (6250, 1), (6393, 1), (6589, 1), (6601, 1), (6621, 1), (6630, 1), (6845, 1), (6928, 1), (7050, 1), (7063, 1), (7084, 1), (7347, 1), (7425, 1), (7520, 1), (7579, 1), (7700, 1), (7856, 1), (7858, 1), (7921, 1), (7956, 1), (8040, 1), (8167, 1), (8237, 1), (8344, 1), (8457, 1), (8536, 1), (8643, 1), (8649, 1), (8682, 1), (8723, 1), (8904, 1), (9313, 1), (9444, 1), (9710, 1), (10073, 1), (10168, 1), (10512, 1), (10533, 1), (10574, 1), (10786, 1), (10867, 1), (11006, 1), (11145, 1), (11335, 1), (11417, 1), (11445, 1), (11452, 1), (11457, 1), (11532, 1), (11609, 1), (11773, 1), (11800, 1), (11806, 1), (11908, 1), (12056, 1), (12228, 1), (12922, 1), (13161, 1), (13168, 1), (13197, 1), (13308, 1), (13316, 1), (13326, 1), (13499, 1), (13550, 1), (13584, 1), (13600, 1), (13669, 1), (13755, 1), (13868, 1), (13953, 1), (13977, 1), (14002, 1), (14121, 1), (14163, 1), (14172, 1), (14224, 1), (14231, 1), (14249, 1), (14373, 1), (14822, 1), (15041, 1), (15075, 1), (15132, 1), (15294, 1), (15502, 1), (15572, 1), (15594, 1), (15629, 1), (15670, 1), (15786, 1), (15846, 1), (15873, 1), (15877, 1), (15938, 1), (16050, 1), (16304, 1), (16330, 1), (16381, 1), (225, 1), (620, 1), (776, 1), (1024, 1), (1052, 1), (1056, 1), (1515, 1), (1598, 1), (1822, 1), (1947, 1), (1968, 1), (1980, 1), (2345, 1), (2610, 1), (2889, 1), (3954, 1), (4141, 1), (5635, 1), (6948, 1), (7085, 1), (7779, 1), (8151, 1), (9343, 1), (9352, 1), (9586, 1), (9601, 1), (10087, 1), (10683, 1), (10987, 1), (12112, 1), (12200, 1), (12365, 1), (12634, 1), (13023, 1), (13149, 1), (13214, 1), (13538, 1), (14201, 1), (14736, 1), (14789, 1), (15458, 1), (15600, 1), (16037, 1), (16148, 1), (8840, 1), (11598, 1), (11884, 1), (14141, 1), (1091, 1), (1386, 1), (2230, 1), (5378, 1), (7066, 1), (14162, 1), (15546, 1), (1168, 1), (5343, 1), (7093, 1), (7321, 1), (9346, 1), (11933, 1), (14280, 1), (14827, 1), (342, 1), (622, 1), (3336, 1), (3740, 1), (5880, 1), (7015, 1), (8718, 1), (13018, 1), (13336, 1), (1704, 1), (4296, 1), (5687, 1), (9801, 1), (11270, 1), (11323, 1), (11684, 1), (11928, 1), (11934, 1), (14324, 1), (24, 1), (259, 1), (421, 1), (611, 1), (1581, 1), (2790, 1), (2908, 1), (5235, 1), (6968, 1), (8231, 1), (9514, 1), (10129, 1), (11235, 1), (11271, 1), (12324, 1), (15031, 1), (15367, 1), (2542, 1), (3310, 1), (5456, 1), (6573, 1), (7416, 1), (7537, 1), (7884, 1), (9035, 1), (9442, 1), (9741, 1), (11360, 1), (14209, 1), (15387, 1), (15943, 1), (16365, 1), (5, 1), (666, 1), (1489, 1), (5530, 1), (5618, 1), (6073, 1), (7465, 1), (9754, 1), (12477, 1), (12496, 1), (13518, 1), (13776, 1), (14699, 1), (16238, 1), (320, 1), (2715, 1), (2998, 1), (6134, 1), (6908, 1), (7311, 1), (7355, 1), (7412, 1), (9269, 1), (9744, 1), (9890, 1), (11538, 1), (13175, 1), (13441, 1), (13471, 1), (244, 1), (2090, 1), (8986, 1), (9716, 1), (10762, 1), (15385, 1), (15729, 1), (16298, 1), (57, 1), (661, 1), (1142, 1), (1510, 1), (2275, 1), (3399, 1), (3780, 1), (4320, 1), (6499, 1), (6906, 1), (7757, 1), (13062, 1), (1933, 1), (3113, 1), (4462, 1), (4598, 1), (6406, 1), (7410, 1), (8329, 1), (9317, 1), (9533, 1), (10377, 1), (11768, 1), (12877, 1), (13106, 1), (13455, 1), (14930, 1), (15348, 1), (15457, 1), (15648, 1), (180, 1), (364, 1), (1285, 1), (1423, 1), (1681, 1), (4809, 1), (4974, 1), (6150, 1), (6767, 1), (8275, 1), (9191, 1), (11711, 1), (12355, 1), (12603, 1), (13241, 1), (14180, 1), (14955, 1), (781, 1), (5369, 1), (6733, 1), (9364, 1), (9544, 1), (11126, 1), (12137, 1), (14836, 1), (66, 1), (262, 1), (497, 1), (1280, 1), (2322, 1), (2672, 1), (3831, 1), (6539, 1), (7106, 1), (7559, 1), (7880, 1), (8727, 1), (9541, 1), (11155, 1), (11707, 1), (13372, 1), (14118, 1), (14247, 1), (15271, 1), (15549, 1), (15722, 1), (16283, 1), (2191, 1), (2840, 1), (3158, 1), (3806, 1), (4421, 1), (5352, 1), (5508, 1), (7751, 1), (7952, 1), (8440, 1), (9842, 1), (10520, 1), (10951, 1), (11079, 1), (12486, 1), (13053, 1), (14586, 1), (351, 1), (519, 1), (1033, 1), (4069, 1), (4351, 1), (5560, 1), (6188, 1), (6271, 1), (6884, 1), (7690, 1), (9889, 1), (10115, 1), (10265, 1), (10605, 1), (10666, 1), (12423, 1), (14049, 1), (14481, 1), (1341, 1), (2965, 1), (2966, 1), (3746, 1), (4571, 1), (5672, 1), (5799, 1), (6610, 1), (7114, 1), (8387, 1), (8544, 1), (9527, 1), (10096, 1), (10112, 1), (10141, 1), (10380, 1), (10624, 1), (11712, 1), (11954, 1), (12219, 1), (12566, 1), (13009, 1), (13267, 1), (14185, 1), (14478, 1), (15129, 1), (15849, 1), (15869, 1), (162, 1), (266, 1), (298, 1), (2149, 1), (2196, 1), (2771, 1), (6020, 1), (8185, 1), (8303, 1), (8597, 1), (10907, 1), (13769, 1), (15965, 1), (61, 1), (800, 1), (1071, 1), (1440, 1), (2120, 1), (3480, 1), (4137, 1), (5057, 1), (5286, 1), (5483, 1), (5998, 1), (6708, 1), (7193, 1), (8141, 1), (8571, 1), (9093, 1), (9187, 1), (10441, 1), (10740, 1), (11219, 1), (12201, 1), (12567, 1), (12678, 1), (13117, 1), (13380, 1), (14860, 1), (15694, 1), (15781, 1), (150, 1), (770, 1), (1486, 1), (1817, 1), (3110, 1), (3126, 1), (3798, 1), (3991, 1), (4394, 1), (5820, 1), (5854, 1), (6334, 1), (6814, 1), (9267, 1), (9839, 1), (9939, 1), (10620, 1), (11699, 1), (11736, 1), (13035, 1), (13806, 1), (15626, 1), (15986, 1), (16350, 1), (30, 1), (402, 1), (2439, 1), (2528, 1), (3485, 1), (3791, 1), (4207, 1), (4443, 1), (4600, 1), (4747, 1), (4924, 1), (5236, 1), (5982, 1), (7450, 1), (9334, 1), (9926, 1), (10955, 1), (11957, 1), (13399, 1), (14608, 1), (14925, 1), (15739, 1), (16301, 1), (720, 1), (787, 1), (995, 1), (1005, 1), (1173, 1), (3306, 1), (3777, 1), (3990, 1), (4022, 1), (4127, 1), (4608, 1), (4719, 1), (5208, 1), (6359, 1), (9264, 1), (10575, 1), (11175, 1), (11356, 1), (11656, 1), (12621, 1), (15470, 1), (15542, 1), (15854, 1)]\n"
          ]
        }
      ],
      "source": [
        "sv_prompt = \"Instruction:\\nAnswer the following Question using 'yes' or 'no' according to your values. No other explanations.\"\n",
        "\n",
        "def try_sae(sv_prompt):\n",
        "    sv_logits, cache = model.run_with_cache(sv_prompt, prepend_bos=True)\n",
        "    tokens = model.to_tokens(sv_prompt)\n",
        "    #print(tokens)\n",
        "\n",
        "    # get the feature activations from our SAE\n",
        "    sv_feature_acts = sae.encode(cache[hook_point])\n",
        "\n",
        "    # get sae_out\n",
        "    sae_out = sae.decode(sv_feature_acts)\n",
        "\n",
        "    # print out the top activations, focus on the indices\n",
        "    #print(torch.topk(sv_feature_acts, 3))\n",
        "    return sv_feature_acts, sae_out\n",
        "\n",
        "sv_feature_acts, sae_out = try_sae(sv_prompt)\n",
        "#collect non-zero the elements in sv_feature_acts  and count the number of these elements\n",
        "\n",
        "from collections import Counter\n",
        "counter = Counter()\n",
        "for token_rep in sv_feature_acts[0]:\n",
        "    #list the index of non-zero elements in token_rep, count them using a counter\n",
        "    for element in torch.nonzero(token_rep):\n",
        "        counter[element.item()] += 1\n",
        "#print counter keys in the order of their values\n",
        "print([(key, value) for key, value in sorted(counter.items(), key=lambda item: item[1], reverse=True)])\n",
        "pass\n"
      ]
    },
    {
      "cell_type": "code",
      "execution_count": 6,
      "metadata": {},
      "outputs": [
        {
          "name": "stderr",
          "output_type": "stream",
          "text": [
            "Loading \"original-fs\" failed\n",
            "Error: Cannot find module 'original-fs'\n",
            "Require stack:\n",
            "- /home/fringsoo/.vscode-server/cli/servers/Stable-fee1edb8d6d72a0ddff41e5f71a671c23ed924b9/server/out/server-cli.js\n",
            "\u001b[90m    at Module._resolveFilename (node:internal/modules/cjs/loader:1145:15)\u001b[39m\n",
            "\u001b[90m    at Module._load (node:internal/modules/cjs/loader:986:27)\u001b[39m\n",
            "\u001b[90m    at Module.require (node:internal/modules/cjs/loader:1233:19)\u001b[39m\n",
            "\u001b[90m    at require (node:internal/modules/helpers:179:18)\u001b[39m\n",
            "    at i (/home/fringsoo/.vscode-server/cli/servers/Stable-fee1edb8d6d72a0ddff41e5f71a671c23ed924b9/server/out/server-cli.js:3:98)\n",
            "    at r.load (/home/fringsoo/.vscode-server/cli/servers/Stable-fee1edb8d6d72a0ddff41e5f71a671c23ed924b9/server/out/server-cli.js:2:1637)\n",
            "    at h.load (/home/fringsoo/.vscode-server/cli/servers/Stable-fee1edb8d6d72a0ddff41e5f71a671c23ed924b9/server/out/server-cli.js:1:13958)\n",
            "    at u (/home/fringsoo/.vscode-server/cli/servers/Stable-fee1edb8d6d72a0ddff41e5f71a671c23ed924b9/server/out/server-cli.js:3:9338)\n",
            "    at Object.errorback (/home/fringsoo/.vscode-server/cli/servers/Stable-fee1edb8d6d72a0ddff41e5f71a671c23ed924b9/server/out/server-cli.js:3:9457)\n",
            "    at h.triggerErrorback (/home/fringsoo/.vscode-server/cli/servers/Stable-fee1edb8d6d72a0ddff41e5f71a671c23ed924b9/server/out/server-cli.js:1:14252)\n",
            "    at /home/fringsoo/.vscode-server/cli/servers/Stable-fee1edb8d6d72a0ddff41e5f71a671c23ed924b9/server/out/server-cli.js:1:14003\n",
            "    at r.load (/home/fringsoo/.vscode-server/cli/servers/Stable-fee1edb8d6d72a0ddff41e5f71a671c23ed924b9/server/out/server-cli.js:2:1654)\n",
            "    at h.load (/home/fringsoo/.vscode-server/cli/servers/Stable-fee1edb8d6d72a0ddff41e5f71a671c23ed924b9/server/out/server-cli.js:1:13958)\n",
            "    at u (/home/fringsoo/.vscode-server/cli/servers/Stable-fee1edb8d6d72a0ddff41e5f71a671c23ed924b9/server/out/server-cli.js:3:9338)\n",
            "    at l._loadModule (/home/fringsoo/.vscode-server/cli/servers/Stable-fee1edb8d6d72a0ddff41e5f71a671c23ed924b9/server/out/server-cli.js:3:9466)\n",
            "    at l._resolve (/home/fringsoo/.vscode-server/cli/servers/Stable-fee1edb8d6d72a0ddff41e5f71a671c23ed924b9/server/out/server-cli.js:4:452)\n",
            "    at l.defineModule (/home/fringsoo/.vscode-server/cli/servers/Stable-fee1edb8d6d72a0ddff41e5f71a671c23ed924b9/server/out/server-cli.js:3:5561)\n",
            "    at Function.p [as define] (/home/fringsoo/.vscode-server/cli/servers/Stable-fee1edb8d6d72a0ddff41e5f71a671c23ed924b9/server/out/server-cli.js:4:1741)\n",
            "    at out-build/bootstrap-amd.js (/home/fringsoo/.vscode-server/cli/servers/Stable-fee1edb8d6d72a0ddff41e5f71a671c23ed924b9/server/out/server-cli.js:4:6445)\n",
            "    at /home/fringsoo/.vscode-server/cli/servers/Stable-fee1edb8d6d72a0ddff41e5f71a671c23ed924b9/server/out/server-cli.js:1:132\n",
            "    at Object.<anonymous> (/home/fringsoo/.vscode-server/cli/servers/Stable-fee1edb8d6d72a0ddff41e5f71a671c23ed924b9/server/out/server-cli.js:4:9653)\n",
            "\u001b[90m    at Module._compile (node:internal/modules/cjs/loader:1358:14)\u001b[39m\n",
            "\u001b[90m    at Module._extensions..js (node:internal/modules/cjs/loader:1416:10)\u001b[39m\n",
            "\u001b[90m    at Module.load (node:internal/modules/cjs/loader:1208:32)\u001b[39m\n",
            "\u001b[90m    at Module._load (node:internal/modules/cjs/loader:1024:12)\u001b[39m\n",
            "\u001b[90m    at Function.executeUserEntryPoint [as runMain] (node:internal/modules/run_main:174:12)\u001b[39m\n",
            "\u001b[90m    at node:internal/main/run_main_module:28:49\u001b[39m {\n",
            "  code: \u001b[32m'MODULE_NOT_FOUND'\u001b[39m,\n",
            "  requireStack: [\n",
            "    \u001b[32m'/home/fringsoo/.vscode-server/cli/servers/Stable-fee1edb8d6d72a0ddff41e5f71a671c23ed924b9/server/out/server-cli.js'\u001b[39m\n",
            "  ],\n",
            "  phase: \u001b[32m'loading'\u001b[39m,\n",
            "  moduleId: \u001b[32m'original-fs'\u001b[39m,\n",
            "  neededBy: [ \u001b[32m'fs'\u001b[39m ]\n",
            "}\n",
            "Here are the modules that depend on it:\n",
            "[ \u001b[32m'fs'\u001b[39m ]\n"
          ]
        },
        {
          "data": {
            "text/plain": [
              "'https://neuronpedia.org/quick-list/?name=temporary_list&features=%5B%7B%22modelId%22%3A%20%22gemma-2b-it%22%2C%20%22layer%22%3A%20%2212-res-jb%22%2C%20%22index%22%3A%20%22%5B%5B11609%2C%2015572%2C%2013161%5D%2C%20%5B9343%2C%2015600%2C%2014982%5D%2C%20%5B6823%2C%201312%2C%2015945%5D%2C%20%5B15945%2C%201312%2C%201091%5D%2C%20%5B9516%2C%201312%2C%206395%5D%2C%20%5B9516%2C%201312%2C%20622%5D%2C%20%5B11934%2C%209516%2C%201312%5D%2C%20%5B2908%2C%201312%2C%203772%5D%2C%20%5B13549%2C%201312%2C%2010454%5D%2C%20%5B1312%2C%207597%2C%205618%5D%2C%20%5B2318%2C%2011214%2C%203183%5D%2C%20%5B8674%2C%2011214%2C%201312%5D%2C%20%5B13062%2C%2010644%2C%201312%5D%2C%20%5B7410%2C%206962%2C%207531%5D%2C%20%5B11214%2C%20924%2C%203183%5D%2C%20%5B1312%2C%2011214%2C%2016101%5D%2C%20%5B16283%2C%202221%2C%201312%5D%2C%20%5B2221%2C%201312%2C%2012703%5D%2C%20%5B1312%2C%2014049%2C%202221%5D%2C%20%5B10096%2C%208387%2C%203183%5D%2C%20%5B15477%2C%201312%2C%2012303%5D%2C%20%5B924%2C%202636%2C%204590%5D%2C%20%5B4394%2C%202370%2C%201486%5D%2C%20%5B13951%2C%2013666%2C%205563%5D%2C%20%5B15477%2C%2011356%2C%2012703%5D%5D%22%7D%5D'"
            ]
          },
          "execution_count": 6,
          "metadata": {},
          "output_type": "execute_result"
        }
      ],
      "source": [
        "from sae_lens.analysis.neuronpedia_integration import get_neuronpedia_quick_list\n",
        "get_neuronpedia_quick_list(torch.topk(sv_feature_acts, 3).indices.tolist(), layer = 12, model = \"gemma-2b-it\", dataset=\"res-jb\")"
      ]
    },
    {
      "cell_type": "markdown",
      "metadata": {
        "id": "7hy8RbbyTb8n"
      },
      "source": [
        "As we can see from our print out of tokens, the prompt is made of three tokens in total - \"<endoftext>\", \"J\", and \"edi\".\n",
        "\n",
        "Our feature activation indexes at sv_feature_acts[2] - for \"edi\" - are of most interest to us.\n",
        "\n",
        "Because we are using pretrained saes that have published feature maps, you can search on Neuronpedia for a feature of interest."
      ]
    },
    {
      "cell_type": "markdown",
      "metadata": {
        "id": "gFv4iBHFcOmE"
      },
      "source": [
        "### Steps for Neuronpedia use\n",
        "\n",
        "Use the interface to search for a specific concept or item and determine which layer and at what index it is.\n",
        "\n",
        "1.   Open the [Neuronpedia](https://www.neuronpedia.org/) homepage.\n",
        "2.   Using the \"Models\" dropdown, select your model. Here we are using GPT2-SM (GPT2-small).\n",
        "3.   The next page will have a search bar, which allows you to enter your index of interest. We're interested in the \"RES-JB\" SAE set, make sure to select it.\n",
        "4.   We found these indices in the previous step: [ 7650,   718, 22372]. Select them in the search to see the feature dashboard for each.\n",
        "5.   As we'll see, some of the indices may relate to features you don't care about.\n",
        "\n",
        "From using Neuronpedia, I have determined that my feature of interest is in layer 2, at index 7650: [here](https://www.neuronpedia.org/gpt2-small/2-res-jb/7650) is the feature."
      ]
    },
    {
      "cell_type": "markdown",
      "metadata": {
        "id": "KX0rXziniH9O"
      },
      "source": [
        "### Note: 2nd Option - Starting with Neuronpedia\n",
        "\n",
        "Another option here is that you can start with Neuronpedia to identify features of interest. By using your prompt in the interface you can explore which features were involved and search across all the layers. This allows you to first determine your layer and index of interest in Neuronpedia before focusing them in your code. Start [here](https://www.neuronpedia.org/search) if you want to begin with search."
      ]
    },
    {
      "cell_type": "markdown",
      "metadata": {
        "id": "YACtNFzGcNua"
      },
      "source": [
        "## Implement your steering vector and affect the output"
      ]
    },
    {
      "cell_type": "markdown",
      "metadata": {
        "id": "pO8hjg8j5bb-"
      },
      "source": [
        "### Define values for your steering vector\n",
        "To create our steering vector, we now need to get the decoder weights from our sparse autoencoder found at our index of interest.\n",
        "\n",
        "Then to use our steering vector, we want a prompt for text generation, as well as a scaling factor coefficent to apply with the steering vector\n",
        "\n",
        "We also set common sampling kwargs - temperature, top_p and freq_penalty"
      ]
    },
    {
      "cell_type": "code",
      "execution_count": 7,
      "metadata": {},
      "outputs": [],
      "source": [
        "def generate_question_norole(q):\n",
        "    instruct = \"Answer the following Question using 'yes' or 'no' according to your values. No other explanations.\" \n",
        "    template = \"Instruction:\\n{instruction}\\n\\nQuestion:\\n{question}\\n\\nAnswer:\\n{answer}\"\n",
        "    prompt = template.format(instruction = instruct, question = q,answer = \"\")\n",
        "    return prompt"
      ]
    },
    {
      "cell_type": "code",
      "execution_count": 83,
      "metadata": {
        "id": "rgYEWGV0t0L2"
      },
      "outputs": [],
      "source": [
        "# example_prompts = [\n",
        "# \"Should I be an honest person?\", #-1\n",
        "# \"Should I cheat to get ahead?\", #1\n",
        "# \"Should I deceive people?\", #1\n",
        "# \"Should I like to trick people into doing things for me?\", #1\n",
        "# #\"Should I have exploited others for my own gain?\", #1\n",
        "# #\"Should I take advantage of others?\", #1\n",
        "# ]\n",
        "\n",
        "example_prompts = [\n",
        "\"I am an honest person.\", #-1\n",
        "\"I cheat to get ahead.\", #1\n",
        "\"I deceive people.\", #1\n",
        "\"I like to trick people into doing things for me.\", #1\n",
        "#\"Should I have exploited others for my own gain?\", #1\n",
        "#\"Should I take advantage of others?\", #1\n",
        "]\n",
        "\n",
        "example_prompts = [\n",
        "\"I inquire about others' well-being.\", #1\n",
        "\"I make others feel good.\", #1\n",
        "\"I make people feel welcome.\", #1\n",
        "\"I rarely smile.\", #-1\n",
        "\"I show my gratitude.\"\n",
        "]\n",
        "\n",
        "example_prompts = [\n",
        "\"I am a workaholic, with little time for fun or pleasure.\",\n",
        "\"I have noticed that I put my work ahead of too many other things.\",\n",
        "\"I work longer hours than most people.\",\n",
        "\"I work so hard that my relationships have suffered.\",\n",
        "\"I work too much.\"\n",
        "]\n",
        "\n",
        "example_prompts = [\n",
        "# \"I lead a purposeful and meaningful life.\",\n",
        "# \"My social relationships are supportive and rewarding.\",\n",
        "# \"I am engaged and interested in my daily activities.\",\n",
        "# \"I actively contribute to the happiness and well-being of others.\",\n",
        "# \"I am competent and capable in the activities that are important to me.\",\n",
        "# \"I am a good person and live a good life.\",\n",
        "# \"People respect me.\",\n",
        "\"I am optimistic about my future.\",\n",
        "]\n",
        "\n",
        "\n",
        "#trait = 'playerbio: John is a 35-year old man, who has been treated very well by his parents since childhood.'\n",
        "example_prompts = [generate_question_norole(qi) for qi in example_prompts]\n",
        "\n",
        "coeff = -300\n",
        "sampling_kwargs = dict(temperature=1.0, top_p=0.1, freq_penalty=1.0)"
      ]
    },
    {
      "cell_type": "markdown",
      "metadata": {
        "id": "cexaoBR65lIa"
      },
      "source": [
        "### Set up hook functions\n",
        "\n",
        "Finally, we need to create a hook that allows us to apply the steering vector when our model runs generate() on our defined prompt. We have also added a boolean value 'steering_on' that allows us to easily toggle the steering vector on and off for each prompt\n"
      ]
    },
    {
      "cell_type": "code",
      "execution_count": 84,
      "metadata": {
        "collapsed": true,
        "id": "3kcVWeJoIAlC"
      },
      "outputs": [
        {
          "name": "stdout",
          "output_type": "stream",
          "text": [
            "[\"Instruction:\\nAnswer the following Question using 'yes' or 'no' according to your values. No other explanations.\\n\\nQuestion:\\nI am optimistic about my future.\\n\\nAnswer:\\n\"]\n"
          ]
        }
      ],
      "source": [
        "def steering_hook(resid_pre, hook):\n",
        "    if resid_pre.shape[1] == 1:\n",
        "        return\n",
        "\n",
        "    #position = sae_out.shape[1]\n",
        "    position = 25\n",
        "    if steering_on:\n",
        "        \n",
        "        if steer_loc == 'out':\n",
        "            # using our steering vector and applying the coefficient\n",
        "            resid_pre[:, :position, :] += coeff * steering_vector\n",
        "            # get the feature activations from our SAE\n",
        "    \n",
        "        elif steer_loc == 'in':\n",
        "            sv_feature_acts = sae.encode(resid_pre)\n",
        "            sv_feature_acts[:, :position, steered_dim] *= coeff\n",
        "            resid_pre = sae.decode(sv_feature_acts)\n",
        "        else:\n",
        "            raise ValueError(f\"Invalid steer_loc: {steer_loc}\")\n",
        "\n",
        "\n",
        "def hooked_generate(prompt_batch, fwd_hooks=[], seed=None, **kwargs):\n",
        "    if seed is not None:\n",
        "        torch.manual_seed(seed)\n",
        "\n",
        "    with model.hooks(fwd_hooks=fwd_hooks):\n",
        "        #sv_logits, cache = model.run_with_cache(prompt_batch, prepend_bos=True)\n",
        "        tokenized = model.to_tokens(prompt_batch)\n",
        "        result = model.generate(\n",
        "            stop_at_eos=False,  # avoids a bug on MPS\n",
        "            input=tokenized,\n",
        "            max_new_tokens=100,\n",
        "            do_sample=False,\n",
        "            verbose=False,\n",
        "            **kwargs)\n",
        "    return result\n",
        "print(example_prompts)\n"
      ]
    },
    {
      "cell_type": "code",
      "execution_count": 85,
      "metadata": {
        "id": "VcuRkX0yA2WH"
      },
      "outputs": [],
      "source": [
        "def run_generate(example_prompts):\n",
        "  model.reset_hooks()\n",
        "  editing_hooks = [(f\"blocks.12.hook_resid_post\", steering_hook)]\n",
        "  res = hooked_generate(example_prompts, editing_hooks, seed=None, **sampling_kwargs)\n",
        "\n",
        "  # Print results, removing the ugly beginning of sequence token\n",
        "  res_str = model.to_string(res[:, 1:])\n",
        "  return [rs.split('\\n\\nAnswer:\\n')[1] for rs in res_str]\n",
        "  print((\"\\n\\n\" + \"-\" * 80 + \"\\n\\n\").join(res_str))"
      ]
    },
    {
      "cell_type": "markdown",
      "metadata": {
        "id": "XYx--hIn61VQ"
      },
      "source": [
        "### Generate text influenced by steering vector\n",
        "\n",
        "You may want to experiment with the scaling factor coefficient value that you set and see how it affects the generated output."
      ]
    },
    {
      "cell_type": "code",
      "execution_count": 86,
      "metadata": {
        "colab": {
          "base_uri": "https://localhost:8080/",
          "height": 337,
          "referenced_widgets": [
            "9f555c5ada38495eb4281cbb49169abe",
            "79b59cbde9444bf892931d31afec7f2a",
            "a157870318114d459a33d795850967ef",
            "635162e10abc441797d4e5b74713bf44",
            "720b4d010c364e3fbf72a53b267e8db9",
            "d9c33fbfb3164cbbb7b9a4cd172d20ae",
            "df53331cce124bd1ada5aa9e9a977015",
            "229dad8e29f04c279c5603286e2c0643",
            "83d947fc3338491ab4155b87c443884c",
            "5e9700580d6b4ad0bfac34bf3b3919fc",
            "a2c30462ef8d41fd9158f194a746d5a7"
          ]
        },
        "id": "hN_YOzBE6lz8",
        "outputId": "e263b8ff-86ce-439e-81e5-bbecb0d7e187"
      },
      "outputs": [
        {
          "name": "stdout",
          "output_type": "stream",
          "text": [
            "[\"Instruction:\\nAnswer the following Question using 'yes' or 'no' according to your values. No other explanations.\\n\\nQuestion:\\nI am optimistic about my future.\\n\\nAnswer:\\n\"]\n",
            "['Yes<eos><eos>The answer is yes. The question is asking if the person is optimistic about their future, and the answer is yes.<eos><eos><eos>The answer is yes. The question is asking if the person is optimistic about their future, and the answer is yes.<eos><eos><eos>The answer is yes. The question is asking if the person is optimistic about their future, and the answer is yes.<eos><eos><eos>The answer is yes. The question is asking if the person is optimistic about their']\n",
            "Steering on dim: 25\n",
            "['Yes<eos><eos>The answer is yes. The question is asking if the person is optimistic about their future, and the answer is yes.<eos><eos><eos>The answer is yes. The question is asking if the person is optimistic about their future, and the answer is yes.<eos><eos><eos>The answer is yes. The question is asking if the person is optimistic about their future, and the answer is yes.<eos><eos><eos>The answer is yes. The question is asking if the person is optimistic about their']\n",
            "Steering on dim: 38\n",
            "['Yes<eos><eos>The answer is yes. The question is asking if the person is optimistic about their future, and the answer is yes.<eos><eos><eos>The answer is yes. The question is asking if the person is optimistic about their future, and the answer is yes.<eos><eos><eos>The answer is yes. The question is asking if the person is optimistic about their future, and the answer is yes.<eos><eos><eos>The answer is yes. The question is asking if the person is optimistic about their']\n",
            "Steering on dim: 392\n",
            "['Yes<eos><eos>The answer is yes. The question is asking if the person is optimistic about their future, and the answer is yes.<eos><eos><eos>The answer is yes. The question is asking if the person is optimistic about their future, and the answer is yes.<eos><eos><eos>The answer is yes. The question is asking if the person is optimistic about their future, and the answer is yes.<eos><eos><eos>The answer is yes. The question is asking if the person is optimistic about their']\n",
            "Steering on dim: 903\n",
            "['Yes<eos><eos>The answer is yes. The question is asking if the person is optimistic about their future, and the answer is yes.<eos><eos><eos>The answer is yes. The question is asking if the person is optimistic about their future, and the answer is yes.<eos><eos><eos>The answer is yes. The question is asking if the person is optimistic about their future, and the answer is yes.<eos><eos><eos>The answer is yes. The question is asking if the person is optimistic about their']\n",
            "Steering on dim: 1046\n",
            "['Yes<eos><eos>The answer is yes. The question is asking if the person is optimistic about their future, and the answer is yes.<eos><eos><eos>The answer is yes. The question is asking if the person is optimistic about their future, and the answer is yes.<eos><eos><eos>The answer is yes. The question is asking if the person is optimistic about their future, and the answer is yes.<eos><eos><eos>The answer is yes. The question is asking if the person is optimistic about their']\n",
            "Steering on dim: 1100\n",
            "['Yes<eos><eos>The answer is yes. The question is asking if the person is optimistic about their future, and the answer is yes.<eos><eos><eos>The answer is yes. The question is asking if the person is optimistic about their future, and the answer is yes.<eos><eos><eos>The answer is yes. The question is asking if the person is optimistic about their future, and the answer is yes.<eos><eos><eos>The answer is yes. The question is asking if the person is optimistic about their']\n",
            "Steering on dim: 1111\n",
            "['Yes<eos><eos>The answer is yes. The question is asking if the person is optimistic about their future, and the answer is yes.<eos><eos><eos>The answer is yes. The question is asking if the person is optimistic about their future, and the answer is yes.<eos><eos><eos>The answer is yes. The question is asking if the person is optimistic about their future, and the answer is yes.<eos><eos><eos>The answer is yes. The question is asking if the person is optimistic about their']\n",
            "Steering on dim: 1245\n",
            "['Yes<eos><eos>The answer is yes. The question is asking if the person is optimistic about their future, and the answer is yes.<eos><eos><eos>The answer is yes. The question is asking if the person is optimistic about their future, and the answer is yes.<eos><eos><eos>The answer is yes. The question is asking if the person is optimistic about their future, and the answer is yes.<eos><eos><eos>The answer is yes. The question is asking if the person is optimistic about their']\n",
            "Steering on dim: 1247\n",
            "['Yes<eos><eos>The answer is yes. The question is asking if the person is optimistic about their future, and the answer is yes.<eos><eos><eos>The answer is yes. The question is asking if the person is optimistic about their future, and the answer is yes.<eos><eos><eos>The answer is yes. The question is asking if the person is optimistic about their future, and the answer is yes.<eos><eos><eos>The answer is yes. The question is asking if the person is optimistic about their']\n",
            "Steering on dim: 1259\n",
            "['Yes<eos><eos>The answer is yes. The question is asking if the person is optimistic about their future, and the answer is yes.<eos><eos><eos>The answer is yes. The question is asking if the person is optimistic about their future, and the answer is yes.<eos><eos><eos>The answer is yes. The question is asking if the person is optimistic about their future, and the answer is yes.<eos><eos><eos>The answer is yes. The question is asking if the person is optimistic about their']\n",
            "Steering on dim: 1345\n",
            "['Yes<eos><eos>The answer is yes. The question is asking if the person is optimistic about their future, and the answer is yes.<eos><eos><eos>The answer is yes. The question is asking if the person is optimistic about their future, and the answer is yes.<eos><eos><eos>The answer is yes. The question is asking if the person is optimistic about their future, and the answer is yes.<eos><eos><eos>The answer is yes. The question is asking if the person is optimistic about their']\n",
            "Steering on dim: 1346\n",
            "['Yes<eos><eos>The answer is yes. The question is asking if the person is optimistic about their future, and the answer is yes.<eos><eos><eos>The answer is yes. The question is asking if the person is optimistic about their future, and the answer is yes.<eos><eos><eos>The answer is yes. The question is asking if the person is optimistic about their future, and the answer is yes.<eos><eos><eos>The answer is yes. The question is asking if the person is optimistic about their']\n",
            "Steering on dim: 1365\n",
            "['Yes<eos><eos>The answer is yes. The question is asking if the person is optimistic about their future, and the answer is yes.<eos><eos><eos>The answer is yes. The question is asking if the person is optimistic about their future, and the answer is yes.<eos><eos><eos>The answer is yes. The question is asking if the person is optimistic about their future, and the answer is yes.<eos><eos><eos>The answer is yes. The question is asking if the person is optimistic about their']\n",
            "Steering on dim: 1540\n"
          ]
        },
        {
          "ename": "KeyboardInterrupt",
          "evalue": "",
          "output_type": "error",
          "traceback": [
            "\u001b[0;31m---------------------------------------------------------------------------\u001b[0m",
            "\u001b[0;31mKeyboardInterrupt\u001b[0m                         Traceback (most recent call last)",
            "Cell \u001b[0;32mIn[86], line 33\u001b[0m\n\u001b[1;32m     31\u001b[0m \u001b[38;5;28mprint\u001b[39m (\u001b[38;5;124mf\u001b[39m\u001b[38;5;124m\"\u001b[39m\u001b[38;5;124mSteering on dim: \u001b[39m\u001b[38;5;132;01m{\u001b[39;00msteered_dim\u001b[38;5;132;01m}\u001b[39;00m\u001b[38;5;124m\"\u001b[39m)\n\u001b[1;32m     32\u001b[0m steering_vector \u001b[38;5;241m=\u001b[39m sae\u001b[38;5;241m.\u001b[39mW_dec[steered_dim]\n\u001b[0;32m---> 33\u001b[0m answers \u001b[38;5;241m=\u001b[39m \u001b[43mrun_generate\u001b[49m\u001b[43m(\u001b[49m\u001b[43mexample_prompts\u001b[49m\u001b[43m)\u001b[49m\n\u001b[1;32m     34\u001b[0m \u001b[38;5;28mprint\u001b[39m(answers)\n\u001b[1;32m     35\u001b[0m \u001b[38;5;28;01mif\u001b[39;00m answers[\u001b[38;5;241m0\u001b[39m]\u001b[38;5;241m.\u001b[39mlower()\u001b[38;5;241m.\u001b[39mstartswith(\u001b[38;5;124m'\u001b[39m\u001b[38;5;124mno\u001b[39m\u001b[38;5;124m'\u001b[39m) \u001b[38;5;129;01mand\u001b[39;00m answers[\u001b[38;5;241m1\u001b[39m]\u001b[38;5;241m.\u001b[39mlower()\u001b[38;5;241m.\u001b[39mstartswith(\u001b[38;5;124m'\u001b[39m\u001b[38;5;124myes\u001b[39m\u001b[38;5;124m'\u001b[39m) \u001b[38;5;129;01mand\u001b[39;00m answers[\u001b[38;5;241m2\u001b[39m]\u001b[38;5;241m.\u001b[39mlower()\u001b[38;5;241m.\u001b[39mstartswith(\u001b[38;5;124m'\u001b[39m\u001b[38;5;124myes\u001b[39m\u001b[38;5;124m'\u001b[39m) \u001b[38;5;129;01mand\u001b[39;00m answers[\u001b[38;5;241m3\u001b[39m]\u001b[38;5;241m.\u001b[39mlower()\u001b[38;5;241m.\u001b[39mstartswith(\u001b[38;5;124m'\u001b[39m\u001b[38;5;124myes\u001b[39m\u001b[38;5;124m'\u001b[39m):\n",
            "Cell \u001b[0;32mIn[85], line 4\u001b[0m, in \u001b[0;36mrun_generate\u001b[0;34m(example_prompts)\u001b[0m\n\u001b[1;32m      2\u001b[0m model\u001b[38;5;241m.\u001b[39mreset_hooks()\n\u001b[1;32m      3\u001b[0m editing_hooks \u001b[38;5;241m=\u001b[39m [(\u001b[38;5;124mf\u001b[39m\u001b[38;5;124m\"\u001b[39m\u001b[38;5;124mblocks.12.hook_resid_post\u001b[39m\u001b[38;5;124m\"\u001b[39m, steering_hook)]\n\u001b[0;32m----> 4\u001b[0m res \u001b[38;5;241m=\u001b[39m \u001b[43mhooked_generate\u001b[49m\u001b[43m(\u001b[49m\u001b[43mexample_prompts\u001b[49m\u001b[43m,\u001b[49m\u001b[43m \u001b[49m\u001b[43mediting_hooks\u001b[49m\u001b[43m,\u001b[49m\u001b[43m \u001b[49m\u001b[43mseed\u001b[49m\u001b[38;5;241;43m=\u001b[39;49m\u001b[38;5;28;43;01mNone\u001b[39;49;00m\u001b[43m,\u001b[49m\u001b[43m \u001b[49m\u001b[38;5;241;43m*\u001b[39;49m\u001b[38;5;241;43m*\u001b[39;49m\u001b[43msampling_kwargs\u001b[49m\u001b[43m)\u001b[49m\n\u001b[1;32m      6\u001b[0m \u001b[38;5;66;03m# Print results, removing the ugly beginning of sequence token\u001b[39;00m\n\u001b[1;32m      7\u001b[0m res_str \u001b[38;5;241m=\u001b[39m model\u001b[38;5;241m.\u001b[39mto_string(res[:, \u001b[38;5;241m1\u001b[39m:])\n",
            "Cell \u001b[0;32mIn[84], line 29\u001b[0m, in \u001b[0;36mhooked_generate\u001b[0;34m(prompt_batch, fwd_hooks, seed, **kwargs)\u001b[0m\n\u001b[1;32m     26\u001b[0m \u001b[38;5;28;01mwith\u001b[39;00m model\u001b[38;5;241m.\u001b[39mhooks(fwd_hooks\u001b[38;5;241m=\u001b[39mfwd_hooks):\n\u001b[1;32m     27\u001b[0m     \u001b[38;5;66;03m#sv_logits, cache = model.run_with_cache(prompt_batch, prepend_bos=True)\u001b[39;00m\n\u001b[1;32m     28\u001b[0m     tokenized \u001b[38;5;241m=\u001b[39m model\u001b[38;5;241m.\u001b[39mto_tokens(prompt_batch)\n\u001b[0;32m---> 29\u001b[0m     result \u001b[38;5;241m=\u001b[39m \u001b[43mmodel\u001b[49m\u001b[38;5;241;43m.\u001b[39;49m\u001b[43mgenerate\u001b[49m\u001b[43m(\u001b[49m\n\u001b[1;32m     30\u001b[0m \u001b[43m        \u001b[49m\u001b[43mstop_at_eos\u001b[49m\u001b[38;5;241;43m=\u001b[39;49m\u001b[38;5;28;43;01mFalse\u001b[39;49;00m\u001b[43m,\u001b[49m\u001b[43m  \u001b[49m\u001b[38;5;66;43;03m# avoids a bug on MPS\u001b[39;49;00m\n\u001b[1;32m     31\u001b[0m \u001b[43m        \u001b[49m\u001b[38;5;28;43minput\u001b[39;49m\u001b[38;5;241;43m=\u001b[39;49m\u001b[43mtokenized\u001b[49m\u001b[43m,\u001b[49m\n\u001b[1;32m     32\u001b[0m \u001b[43m        \u001b[49m\u001b[43mmax_new_tokens\u001b[49m\u001b[38;5;241;43m=\u001b[39;49m\u001b[38;5;241;43m100\u001b[39;49m\u001b[43m,\u001b[49m\n\u001b[1;32m     33\u001b[0m \u001b[43m        \u001b[49m\u001b[43mdo_sample\u001b[49m\u001b[38;5;241;43m=\u001b[39;49m\u001b[38;5;28;43;01mFalse\u001b[39;49;00m\u001b[43m,\u001b[49m\n\u001b[1;32m     34\u001b[0m \u001b[43m        \u001b[49m\u001b[43mverbose\u001b[49m\u001b[38;5;241;43m=\u001b[39;49m\u001b[38;5;28;43;01mFalse\u001b[39;49;00m\u001b[43m,\u001b[49m\n\u001b[1;32m     35\u001b[0m \u001b[43m        \u001b[49m\u001b[38;5;241;43m*\u001b[39;49m\u001b[38;5;241;43m*\u001b[39;49m\u001b[43mkwargs\u001b[49m\u001b[43m)\u001b[49m\n\u001b[1;32m     36\u001b[0m \u001b[38;5;28;01mreturn\u001b[39;00m result\n",
            "File \u001b[0;32m~/Desktop/all_projs/proj_concordia/SAELens/.venv/lib/python3.11/site-packages/torch/utils/_contextlib.py:115\u001b[0m, in \u001b[0;36mcontext_decorator.<locals>.decorate_context\u001b[0;34m(*args, **kwargs)\u001b[0m\n\u001b[1;32m    112\u001b[0m \u001b[38;5;129m@functools\u001b[39m\u001b[38;5;241m.\u001b[39mwraps(func)\n\u001b[1;32m    113\u001b[0m \u001b[38;5;28;01mdef\u001b[39;00m \u001b[38;5;21mdecorate_context\u001b[39m(\u001b[38;5;241m*\u001b[39margs, \u001b[38;5;241m*\u001b[39m\u001b[38;5;241m*\u001b[39mkwargs):\n\u001b[1;32m    114\u001b[0m     \u001b[38;5;28;01mwith\u001b[39;00m ctx_factory():\n\u001b[0;32m--> 115\u001b[0m         \u001b[38;5;28;01mreturn\u001b[39;00m \u001b[43mfunc\u001b[49m\u001b[43m(\u001b[49m\u001b[38;5;241;43m*\u001b[39;49m\u001b[43margs\u001b[49m\u001b[43m,\u001b[49m\u001b[43m \u001b[49m\u001b[38;5;241;43m*\u001b[39;49m\u001b[38;5;241;43m*\u001b[39;49m\u001b[43mkwargs\u001b[49m\u001b[43m)\u001b[49m\n",
            "File \u001b[0;32m~/Desktop/all_projs/proj_concordia/SAELens/.venv/lib/python3.11/site-packages/transformer_lens/HookedTransformer.py:2095\u001b[0m, in \u001b[0;36mHookedTransformer.generate\u001b[0;34m(self, input, max_new_tokens, stop_at_eos, eos_token_id, do_sample, top_k, top_p, temperature, freq_penalty, use_past_kv_cache, prepend_bos, padding_side, return_type, verbose)\u001b[0m\n\u001b[1;32m   2092\u001b[0m \u001b[38;5;28;01mif\u001b[39;00m use_past_kv_cache:\n\u001b[1;32m   2093\u001b[0m     \u001b[38;5;66;03m# We just take the final tokens, as a [batch, 1] tensor\u001b[39;00m\n\u001b[1;32m   2094\u001b[0m     \u001b[38;5;28;01mif\u001b[39;00m index \u001b[38;5;241m>\u001b[39m \u001b[38;5;241m0\u001b[39m:\n\u001b[0;32m-> 2095\u001b[0m         logits \u001b[38;5;241m=\u001b[39m \u001b[38;5;28;43mself\u001b[39;49m\u001b[38;5;241;43m.\u001b[39;49m\u001b[43mforward\u001b[49m\u001b[43m(\u001b[49m\n\u001b[1;32m   2096\u001b[0m \u001b[43m            \u001b[49m\u001b[43mtokens\u001b[49m\u001b[43m[\u001b[49m\u001b[43m:\u001b[49m\u001b[43m,\u001b[49m\u001b[43m \u001b[49m\u001b[38;5;241;43m-\u001b[39;49m\u001b[38;5;241;43m1\u001b[39;49m\u001b[43m:\u001b[49m\u001b[43m]\u001b[49m\u001b[43m,\u001b[49m\n\u001b[1;32m   2097\u001b[0m \u001b[43m            \u001b[49m\u001b[43mreturn_type\u001b[49m\u001b[38;5;241;43m=\u001b[39;49m\u001b[38;5;124;43m\"\u001b[39;49m\u001b[38;5;124;43mlogits\u001b[39;49m\u001b[38;5;124;43m\"\u001b[39;49m\u001b[43m,\u001b[49m\n\u001b[1;32m   2098\u001b[0m \u001b[43m            \u001b[49m\u001b[43mprepend_bos\u001b[49m\u001b[38;5;241;43m=\u001b[39;49m\u001b[43mprepend_bos\u001b[49m\u001b[43m,\u001b[49m\n\u001b[1;32m   2099\u001b[0m \u001b[43m            \u001b[49m\u001b[43mpadding_side\u001b[49m\u001b[38;5;241;43m=\u001b[39;49m\u001b[43mpadding_side\u001b[49m\u001b[43m,\u001b[49m\n\u001b[1;32m   2100\u001b[0m \u001b[43m            \u001b[49m\u001b[43mpast_kv_cache\u001b[49m\u001b[38;5;241;43m=\u001b[39;49m\u001b[43mpast_kv_cache\u001b[49m\u001b[43m,\u001b[49m\n\u001b[1;32m   2101\u001b[0m \u001b[43m        \u001b[49m\u001b[43m)\u001b[49m\n\u001b[1;32m   2102\u001b[0m     \u001b[38;5;28;01melse\u001b[39;00m:\n\u001b[1;32m   2103\u001b[0m         logits \u001b[38;5;241m=\u001b[39m \u001b[38;5;28mself\u001b[39m\u001b[38;5;241m.\u001b[39mforward(\n\u001b[1;32m   2104\u001b[0m             tokens,\n\u001b[1;32m   2105\u001b[0m             return_type\u001b[38;5;241m=\u001b[39m\u001b[38;5;124m\"\u001b[39m\u001b[38;5;124mlogits\u001b[39m\u001b[38;5;124m\"\u001b[39m,\n\u001b[0;32m   (...)\u001b[0m\n\u001b[1;32m   2108\u001b[0m             past_kv_cache\u001b[38;5;241m=\u001b[39mpast_kv_cache,\n\u001b[1;32m   2109\u001b[0m         )\n",
            "File \u001b[0;32m~/Desktop/all_projs/proj_concordia/SAELens/.venv/lib/python3.11/site-packages/transformer_lens/HookedTransformer.py:522\u001b[0m, in \u001b[0;36mHookedTransformer.forward\u001b[0;34m(self, input, return_type, loss_per_token, prepend_bos, padding_side, start_at_layer, tokens, shortformer_pos_embed, attention_mask, stop_at_layer, past_kv_cache)\u001b[0m\n\u001b[1;32m    513\u001b[0m \u001b[38;5;28;01mwith\u001b[39;00m utils\u001b[38;5;241m.\u001b[39mLocallyOverridenDefaults(\n\u001b[1;32m    514\u001b[0m     \u001b[38;5;28mself\u001b[39m, prepend_bos\u001b[38;5;241m=\u001b[39mprepend_bos, padding_side\u001b[38;5;241m=\u001b[39mpadding_side\n\u001b[1;32m    515\u001b[0m ):\n\u001b[1;32m    516\u001b[0m     \u001b[38;5;28;01mif\u001b[39;00m start_at_layer \u001b[38;5;129;01mis\u001b[39;00m \u001b[38;5;28;01mNone\u001b[39;00m:\n\u001b[1;32m    517\u001b[0m         (\n\u001b[1;32m    518\u001b[0m             residual,\n\u001b[1;32m    519\u001b[0m             tokens,\n\u001b[1;32m    520\u001b[0m             shortformer_pos_embed,\n\u001b[1;32m    521\u001b[0m             attention_mask,\n\u001b[0;32m--> 522\u001b[0m         ) \u001b[38;5;241m=\u001b[39m \u001b[38;5;28;43mself\u001b[39;49m\u001b[38;5;241;43m.\u001b[39;49m\u001b[43minput_to_embed\u001b[49m\u001b[43m(\u001b[49m\n\u001b[1;32m    523\u001b[0m \u001b[43m            \u001b[49m\u001b[38;5;28;43minput\u001b[39;49m\u001b[43m,\u001b[49m\n\u001b[1;32m    524\u001b[0m \u001b[43m            \u001b[49m\u001b[43mprepend_bos\u001b[49m\u001b[38;5;241;43m=\u001b[39;49m\u001b[43mprepend_bos\u001b[49m\u001b[43m,\u001b[49m\n\u001b[1;32m    525\u001b[0m \u001b[43m            \u001b[49m\u001b[43mpadding_side\u001b[49m\u001b[38;5;241;43m=\u001b[39;49m\u001b[43mpadding_side\u001b[49m\u001b[43m,\u001b[49m\n\u001b[1;32m    526\u001b[0m \u001b[43m            \u001b[49m\u001b[43mpast_kv_cache\u001b[49m\u001b[38;5;241;43m=\u001b[39;49m\u001b[43mpast_kv_cache\u001b[49m\u001b[43m,\u001b[49m\n\u001b[1;32m    527\u001b[0m \u001b[43m        \u001b[49m\u001b[43m)\u001b[49m\n\u001b[1;32m    528\u001b[0m     \u001b[38;5;28;01melse\u001b[39;00m:\n\u001b[1;32m    529\u001b[0m         \u001b[38;5;28;01massert\u001b[39;00m \u001b[38;5;28mtype\u001b[39m(\u001b[38;5;28minput\u001b[39m) \u001b[38;5;241m==\u001b[39m torch\u001b[38;5;241m.\u001b[39mTensor\n",
            "File \u001b[0;32m~/Desktop/all_projs/proj_concordia/SAELens/.venv/lib/python3.11/site-packages/transformer_lens/HookedTransformer.py:287\u001b[0m, in \u001b[0;36mHookedTransformer.input_to_embed\u001b[0;34m(self, input, prepend_bos, padding_side, past_kv_cache)\u001b[0m\n\u001b[1;32m    284\u001b[0m \u001b[38;5;28;01mif\u001b[39;00m tokens\u001b[38;5;241m.\u001b[39mdevice\u001b[38;5;241m.\u001b[39mtype \u001b[38;5;241m!=\u001b[39m \u001b[38;5;28mself\u001b[39m\u001b[38;5;241m.\u001b[39mcfg\u001b[38;5;241m.\u001b[39mdevice:\n\u001b[1;32m    285\u001b[0m     tokens \u001b[38;5;241m=\u001b[39m tokens\u001b[38;5;241m.\u001b[39mto(devices\u001b[38;5;241m.\u001b[39mget_device_for_block_index(\u001b[38;5;241m0\u001b[39m, \u001b[38;5;28mself\u001b[39m\u001b[38;5;241m.\u001b[39mcfg))\n\u001b[0;32m--> 287\u001b[0m \u001b[38;5;28;01mif\u001b[39;00m (\u001b[38;5;28mself\u001b[39m\u001b[38;5;241m.\u001b[39mtokenizer \u001b[38;5;129;01mand\u001b[39;00m \u001b[38;5;28mself\u001b[39m\u001b[38;5;241m.\u001b[39mtokenizer\u001b[38;5;241m.\u001b[39mpadding_side \u001b[38;5;241m==\u001b[39m \u001b[38;5;124m\"\u001b[39m\u001b[38;5;124mleft\u001b[39m\u001b[38;5;124m\"\u001b[39m) \u001b[38;5;129;01mor\u001b[39;00m past_kv_cache \u001b[38;5;129;01mis\u001b[39;00m \u001b[38;5;129;01mnot\u001b[39;00m \u001b[38;5;28;01mNone\u001b[39;00m:\n\u001b[1;32m    288\u001b[0m     \u001b[38;5;66;03m# If the padding side is left or we are using caching, we need to compute the attention\u001b[39;00m\n\u001b[1;32m    289\u001b[0m     \u001b[38;5;66;03m# mask for the adjustment of absolute positional embeddings and attention masking so\u001b[39;00m\n\u001b[1;32m    290\u001b[0m     \u001b[38;5;66;03m# that pad tokens are not attended.\u001b[39;00m\n\u001b[1;32m    292\u001b[0m     \u001b[38;5;28;01mif\u001b[39;00m prepend_bos \u001b[38;5;129;01mis\u001b[39;00m USE_DEFAULT_VALUE:\n\u001b[1;32m    293\u001b[0m         prepend_bos \u001b[38;5;241m=\u001b[39m \u001b[38;5;28mself\u001b[39m\u001b[38;5;241m.\u001b[39mcfg\u001b[38;5;241m.\u001b[39mdefault_prepend_bos\n",
            "File \u001b[0;32m~/Desktop/all_projs/proj_concordia/SAELens/.venv/lib/python3.11/site-packages/transformers/tokenization_utils_fast.py:258\u001b[0m, in \u001b[0;36mPreTrainedTokenizerFast.__len__\u001b[0;34m(self)\u001b[0m\n\u001b[1;32m    254\u001b[0m \u001b[38;5;28;01mdef\u001b[39;00m \u001b[38;5;21m__len__\u001b[39m(\u001b[38;5;28mself\u001b[39m) \u001b[38;5;241m-\u001b[39m\u001b[38;5;241m>\u001b[39m \u001b[38;5;28mint\u001b[39m:\n\u001b[1;32m    255\u001b[0m \u001b[38;5;250m    \u001b[39m\u001b[38;5;124;03m\"\"\"\u001b[39;00m\n\u001b[1;32m    256\u001b[0m \u001b[38;5;124;03m    Size of the full vocabulary with the added tokens.\u001b[39;00m\n\u001b[1;32m    257\u001b[0m \u001b[38;5;124;03m    \"\"\"\u001b[39;00m\n\u001b[0;32m--> 258\u001b[0m     \u001b[38;5;28;01mreturn\u001b[39;00m \u001b[38;5;28;43mself\u001b[39;49m\u001b[38;5;241;43m.\u001b[39;49m\u001b[43m_tokenizer\u001b[49m\u001b[38;5;241;43m.\u001b[39;49m\u001b[43mget_vocab_size\u001b[49m\u001b[43m(\u001b[49m\u001b[43mwith_added_tokens\u001b[49m\u001b[38;5;241;43m=\u001b[39;49m\u001b[38;5;28;43;01mTrue\u001b[39;49;00m\u001b[43m)\u001b[49m\n",
            "\u001b[0;31mKeyboardInterrupt\u001b[0m: "
          ]
        }
      ],
      "source": [
        "\n",
        "#steered_dim = 2822 #honesty, gemma2bit\n",
        "#steered_dim =7435 #lying, gemma2bit\n",
        "#example_prompts = [\"When facing benefits, should I be honest or cheat? \\n\\nAnswer:\\n\"]\n",
        "\n",
        "#steered_dim = 376 #success, gemma2bit\n",
        "#steered_dim = 8161 #happy, gemma2bit\n",
        "#example_prompts = [\"Which is more important: being successful or live a happy life? \\n\\nAnswer:\\n\"]\n",
        "#example_prompts = [\"What is the meaning of life?\\n\\nAnswer:\\n\"]\n",
        "\n",
        "# steered_dim = 10200 #sf, gemma2b\n",
        "# example_prompts = [\"What is the most iconic structure known to man? \\n\\nAnswer:\\n\"]\n",
        "\n",
        "#steered_dim =  13484 #woman name, gpt2 small\n",
        "#example_prompt = \"When John and Mary went to the shops, John gave the bag to \"\n",
        "\n",
        "print(example_prompts)\n",
        "\n",
        "steering_on = False\n",
        "answers = run_generate(example_prompts)\n",
        "#answers = [a[:3] for a in answers]\n",
        "print(answers)\n",
        "\n",
        "steering_on = True\n",
        "steer_loc = 'in'\n",
        "# answers = run_generate(example_prompts)\n",
        "# #answers = [a[:3] for a in answers]\n",
        "# print(answers)\n",
        "\n",
        "#for steered_dim in range(16384):\n",
        "for steered_dim in counter.keys():\n",
        "    print (f\"Steering on dim: {steered_dim}\")\n",
        "    steering_vector = sae.W_dec[steered_dim]\n",
        "    answers = run_generate(example_prompts)\n",
        "    print(answers)\n",
        "    if answers[0].lower().startswith('no') and answers[1].lower().startswith('yes') and answers[2].lower().startswith('yes') and answers[3].lower().startswith('yes'):\n",
        "        break\n",
        "    # print(answers[0].lower()[:3], answers[1].lower()[:3], answers[2].lower()[:3], answers[3].lower()[:3])\n",
        "    # print('############################')\n"
      ]
    },
    {
      "cell_type": "markdown",
      "metadata": {
        "id": "ltZEm1VW7Tsr"
      },
      "source": [
        "### Generate text with no steering"
      ]
    },
    {
      "cell_type": "code",
      "execution_count": null,
      "metadata": {
        "colab": {
          "base_uri": "https://localhost:8080/",
          "height": 337,
          "referenced_widgets": [
            "1a5dd5f7c9d340b6ab00ecaf43525ae9",
            "8211cc6c973a43fcaf18e14f6d7f08a2",
            "3d3584d1feec459287ffa24c4ef790c3",
            "5f03835168e64ec588c50ee21fedd198",
            "b833db18729f422cb86deed4be6f1900",
            "66d406d6eb1f49699ee09c9a2fd4ffa9",
            "38341454dd6b4e9ca2fe5b85d2e371e1",
            "a30c82833f55441995744300c2ef538d",
            "4932983d4f1a4199b3d24c730c765a24",
            "c20e9e14100d45f3bdff1b6df943940f",
            "5c53f97287d54c03a378fc44ab791cd7"
          ]
        },
        "collapsed": true,
        "id": "nA9cs1BY7XhS",
        "outputId": "22a03d47-1afb-4217-d77a-979c94392f2a"
      },
      "outputs": [],
      "source": [
        "steering_on = False\n",
        "run_generate(example_prompts)"
      ]
    },
    {
      "cell_type": "markdown",
      "metadata": {
        "id": "Q_duIXtnAcj9"
      },
      "source": [
        "### General Question test\n",
        "We'll also attempt a more general prompt which is a better indication of whether our steering vector is having an effect or not"
      ]
    },
    {
      "cell_type": "code",
      "execution_count": null,
      "metadata": {
        "id": "UmqQEAM3Ab0i"
      },
      "outputs": [],
      "source": [
        "question_prompt = \"What is on your mind?\"\n",
        "coeff = 100\n",
        "sampling_kwargs = dict(temperature=1.0, top_p=0.1, freq_penalty=1.0)"
      ]
    },
    {
      "cell_type": "code",
      "execution_count": null,
      "metadata": {
        "colab": {
          "base_uri": "https://localhost:8080/",
          "height": 337,
          "referenced_widgets": [
            "106650a69f4c4bd0a340d58c4bd4f1bb",
            "06d77984a1a64d39938bfe68e114539b",
            "6571f57262c447ce9177223fb583e707",
            "a2179cafb63f475db0162cd990a17ff7",
            "c0bb81765e93420796cd5f959e9d3534",
            "fe6cae73e861414eaff54680113676bc",
            "3f5f9cad86e24dd489146215c3a208c9",
            "70006fb01d6a49fb909e4a3bfc5b940a",
            "7980b120d41247548f49667cea6156a5",
            "359ef2b8a4ac4a9c9a91edc4a2dd1326",
            "c66dc6c14a4c4274900abe8fc993266a"
          ]
        },
        "id": "HUanDPQeAss3",
        "outputId": "ecb100a3-d855-4c3e-a758-bd7a3cfebd23"
      },
      "outputs": [],
      "source": [
        "steering_on = True\n",
        "run_generate(question_prompt)"
      ]
    },
    {
      "cell_type": "code",
      "execution_count": null,
      "metadata": {
        "colab": {
          "base_uri": "https://localhost:8080/",
          "height": 337,
          "referenced_widgets": [
            "a8bdc4ecce4f48e0ba6483ea9e679336",
            "60604227dac34e37a0a9f3bfb3984317",
            "4024c181581c485abd3181586afc2574",
            "7761a50a602f41f1a21aa826c491eb9d",
            "25ebd285de2e49c483c3b22b5c8364c0",
            "3b74befc8d70471697ce6686ab4ac5c3",
            "b2ff537e768b43ef98c412e633ab9e49",
            "3fdf0c5e62f24f30b02bcdc37b17c2e7",
            "07c0dd1a8de149408b981a8892f6e46d",
            "b272384164504fa5b81d5502c12f8800",
            "f525b9f19c334fe6b2305ad6bcfa20bf"
          ]
        },
        "id": "W07bAiWqBlXh",
        "outputId": "a6b074e6-8183-41ec-c390-2d6430eefdc7"
      },
      "outputs": [],
      "source": [
        "steering_on = False\n",
        "run_generate(question_prompt)"
      ]
    },
    {
      "cell_type": "markdown",
      "metadata": {
        "id": "JVTbMgMzCLB9"
      },
      "source": [
        "## Next Steps\n",
        "\n",
        "Ideas you could take for further exploration:\n",
        "\n",
        "*   Try ablating the feature\n",
        "*   Try and get a response where just the feature token prints over and over\n",
        "*   Investigate other features with more complex usage\n",
        "\n"
      ]
    }
  ],
  "metadata": {
    "accelerator": "GPU",
    "colab": {
      "collapsed_sections": [
        "fapxk8MDrs6R",
        "CmaPYLpGrxbo"
      ],
      "gpuType": "T4",
      "provenance": []
    },
    "kernelspec": {
      "display_name": "Python 3",
      "language": "python",
      "name": "python3"
    },
    "language_info": {
      "codemirror_mode": {
        "name": "ipython",
        "version": 3
      },
      "file_extension": ".py",
      "mimetype": "text/x-python",
      "name": "python",
      "nbconvert_exporter": "python",
      "pygments_lexer": "ipython3",
      "version": "3.11.9"
    },
    "vscode": {
      "interpreter": {
        "hash": "088c6e4e32c1710b3b346fe2c9e3084abd3190c888871e6e5b66f23c765b3959"
      }
    },
    "widgets": {
      "application/vnd.jupyter.widget-state+json": {
        "06d77984a1a64d39938bfe68e114539b": {
          "model_module": "@jupyter-widgets/controls",
          "model_module_version": "1.5.0",
          "model_name": "HTMLModel",
          "state": {
            "_dom_classes": [],
            "_model_module": "@jupyter-widgets/controls",
            "_model_module_version": "1.5.0",
            "_model_name": "HTMLModel",
            "_view_count": null,
            "_view_module": "@jupyter-widgets/controls",
            "_view_module_version": "1.5.0",
            "_view_name": "HTMLView",
            "description": "",
            "description_tooltip": null,
            "layout": "IPY_MODEL_fe6cae73e861414eaff54680113676bc",
            "placeholder": "​",
            "style": "IPY_MODEL_3f5f9cad86e24dd489146215c3a208c9",
            "value": "100%"
          }
        },
        "07c0dd1a8de149408b981a8892f6e46d": {
          "model_module": "@jupyter-widgets/controls",
          "model_module_version": "1.5.0",
          "model_name": "ProgressStyleModel",
          "state": {
            "_model_module": "@jupyter-widgets/controls",
            "_model_module_version": "1.5.0",
            "_model_name": "ProgressStyleModel",
            "_view_count": null,
            "_view_module": "@jupyter-widgets/base",
            "_view_module_version": "1.2.0",
            "_view_name": "StyleView",
            "bar_color": null,
            "description_width": ""
          }
        },
        "106650a69f4c4bd0a340d58c4bd4f1bb": {
          "model_module": "@jupyter-widgets/controls",
          "model_module_version": "1.5.0",
          "model_name": "HBoxModel",
          "state": {
            "_dom_classes": [],
            "_model_module": "@jupyter-widgets/controls",
            "_model_module_version": "1.5.0",
            "_model_name": "HBoxModel",
            "_view_count": null,
            "_view_module": "@jupyter-widgets/controls",
            "_view_module_version": "1.5.0",
            "_view_name": "HBoxView",
            "box_style": "",
            "children": [
              "IPY_MODEL_06d77984a1a64d39938bfe68e114539b",
              "IPY_MODEL_6571f57262c447ce9177223fb583e707",
              "IPY_MODEL_a2179cafb63f475db0162cd990a17ff7"
            ],
            "layout": "IPY_MODEL_c0bb81765e93420796cd5f959e9d3534"
          }
        },
        "1a5dd5f7c9d340b6ab00ecaf43525ae9": {
          "model_module": "@jupyter-widgets/controls",
          "model_module_version": "1.5.0",
          "model_name": "HBoxModel",
          "state": {
            "_dom_classes": [],
            "_model_module": "@jupyter-widgets/controls",
            "_model_module_version": "1.5.0",
            "_model_name": "HBoxModel",
            "_view_count": null,
            "_view_module": "@jupyter-widgets/controls",
            "_view_module_version": "1.5.0",
            "_view_name": "HBoxView",
            "box_style": "",
            "children": [
              "IPY_MODEL_8211cc6c973a43fcaf18e14f6d7f08a2",
              "IPY_MODEL_3d3584d1feec459287ffa24c4ef790c3",
              "IPY_MODEL_5f03835168e64ec588c50ee21fedd198"
            ],
            "layout": "IPY_MODEL_b833db18729f422cb86deed4be6f1900"
          }
        },
        "229dad8e29f04c279c5603286e2c0643": {
          "model_module": "@jupyter-widgets/base",
          "model_module_version": "1.2.0",
          "model_name": "LayoutModel",
          "state": {
            "_model_module": "@jupyter-widgets/base",
            "_model_module_version": "1.2.0",
            "_model_name": "LayoutModel",
            "_view_count": null,
            "_view_module": "@jupyter-widgets/base",
            "_view_module_version": "1.2.0",
            "_view_name": "LayoutView",
            "align_content": null,
            "align_items": null,
            "align_self": null,
            "border": null,
            "bottom": null,
            "display": null,
            "flex": null,
            "flex_flow": null,
            "grid_area": null,
            "grid_auto_columns": null,
            "grid_auto_flow": null,
            "grid_auto_rows": null,
            "grid_column": null,
            "grid_gap": null,
            "grid_row": null,
            "grid_template_areas": null,
            "grid_template_columns": null,
            "grid_template_rows": null,
            "height": null,
            "justify_content": null,
            "justify_items": null,
            "left": null,
            "margin": null,
            "max_height": null,
            "max_width": null,
            "min_height": null,
            "min_width": null,
            "object_fit": null,
            "object_position": null,
            "order": null,
            "overflow": null,
            "overflow_x": null,
            "overflow_y": null,
            "padding": null,
            "right": null,
            "top": null,
            "visibility": null,
            "width": null
          }
        },
        "25ebd285de2e49c483c3b22b5c8364c0": {
          "model_module": "@jupyter-widgets/base",
          "model_module_version": "1.2.0",
          "model_name": "LayoutModel",
          "state": {
            "_model_module": "@jupyter-widgets/base",
            "_model_module_version": "1.2.0",
            "_model_name": "LayoutModel",
            "_view_count": null,
            "_view_module": "@jupyter-widgets/base",
            "_view_module_version": "1.2.0",
            "_view_name": "LayoutView",
            "align_content": null,
            "align_items": null,
            "align_self": null,
            "border": null,
            "bottom": null,
            "display": null,
            "flex": null,
            "flex_flow": null,
            "grid_area": null,
            "grid_auto_columns": null,
            "grid_auto_flow": null,
            "grid_auto_rows": null,
            "grid_column": null,
            "grid_gap": null,
            "grid_row": null,
            "grid_template_areas": null,
            "grid_template_columns": null,
            "grid_template_rows": null,
            "height": null,
            "justify_content": null,
            "justify_items": null,
            "left": null,
            "margin": null,
            "max_height": null,
            "max_width": null,
            "min_height": null,
            "min_width": null,
            "object_fit": null,
            "object_position": null,
            "order": null,
            "overflow": null,
            "overflow_x": null,
            "overflow_y": null,
            "padding": null,
            "right": null,
            "top": null,
            "visibility": null,
            "width": null
          }
        },
        "359ef2b8a4ac4a9c9a91edc4a2dd1326": {
          "model_module": "@jupyter-widgets/base",
          "model_module_version": "1.2.0",
          "model_name": "LayoutModel",
          "state": {
            "_model_module": "@jupyter-widgets/base",
            "_model_module_version": "1.2.0",
            "_model_name": "LayoutModel",
            "_view_count": null,
            "_view_module": "@jupyter-widgets/base",
            "_view_module_version": "1.2.0",
            "_view_name": "LayoutView",
            "align_content": null,
            "align_items": null,
            "align_self": null,
            "border": null,
            "bottom": null,
            "display": null,
            "flex": null,
            "flex_flow": null,
            "grid_area": null,
            "grid_auto_columns": null,
            "grid_auto_flow": null,
            "grid_auto_rows": null,
            "grid_column": null,
            "grid_gap": null,
            "grid_row": null,
            "grid_template_areas": null,
            "grid_template_columns": null,
            "grid_template_rows": null,
            "height": null,
            "justify_content": null,
            "justify_items": null,
            "left": null,
            "margin": null,
            "max_height": null,
            "max_width": null,
            "min_height": null,
            "min_width": null,
            "object_fit": null,
            "object_position": null,
            "order": null,
            "overflow": null,
            "overflow_x": null,
            "overflow_y": null,
            "padding": null,
            "right": null,
            "top": null,
            "visibility": null,
            "width": null
          }
        },
        "38341454dd6b4e9ca2fe5b85d2e371e1": {
          "model_module": "@jupyter-widgets/controls",
          "model_module_version": "1.5.0",
          "model_name": "DescriptionStyleModel",
          "state": {
            "_model_module": "@jupyter-widgets/controls",
            "_model_module_version": "1.5.0",
            "_model_name": "DescriptionStyleModel",
            "_view_count": null,
            "_view_module": "@jupyter-widgets/base",
            "_view_module_version": "1.2.0",
            "_view_name": "StyleView",
            "description_width": ""
          }
        },
        "3b74befc8d70471697ce6686ab4ac5c3": {
          "model_module": "@jupyter-widgets/base",
          "model_module_version": "1.2.0",
          "model_name": "LayoutModel",
          "state": {
            "_model_module": "@jupyter-widgets/base",
            "_model_module_version": "1.2.0",
            "_model_name": "LayoutModel",
            "_view_count": null,
            "_view_module": "@jupyter-widgets/base",
            "_view_module_version": "1.2.0",
            "_view_name": "LayoutView",
            "align_content": null,
            "align_items": null,
            "align_self": null,
            "border": null,
            "bottom": null,
            "display": null,
            "flex": null,
            "flex_flow": null,
            "grid_area": null,
            "grid_auto_columns": null,
            "grid_auto_flow": null,
            "grid_auto_rows": null,
            "grid_column": null,
            "grid_gap": null,
            "grid_row": null,
            "grid_template_areas": null,
            "grid_template_columns": null,
            "grid_template_rows": null,
            "height": null,
            "justify_content": null,
            "justify_items": null,
            "left": null,
            "margin": null,
            "max_height": null,
            "max_width": null,
            "min_height": null,
            "min_width": null,
            "object_fit": null,
            "object_position": null,
            "order": null,
            "overflow": null,
            "overflow_x": null,
            "overflow_y": null,
            "padding": null,
            "right": null,
            "top": null,
            "visibility": null,
            "width": null
          }
        },
        "3d3584d1feec459287ffa24c4ef790c3": {
          "model_module": "@jupyter-widgets/controls",
          "model_module_version": "1.5.0",
          "model_name": "FloatProgressModel",
          "state": {
            "_dom_classes": [],
            "_model_module": "@jupyter-widgets/controls",
            "_model_module_version": "1.5.0",
            "_model_name": "FloatProgressModel",
            "_view_count": null,
            "_view_module": "@jupyter-widgets/controls",
            "_view_module_version": "1.5.0",
            "_view_name": "ProgressView",
            "bar_style": "success",
            "description": "",
            "description_tooltip": null,
            "layout": "IPY_MODEL_a30c82833f55441995744300c2ef538d",
            "max": 50,
            "min": 0,
            "orientation": "horizontal",
            "style": "IPY_MODEL_4932983d4f1a4199b3d24c730c765a24",
            "value": 50
          }
        },
        "3f5f9cad86e24dd489146215c3a208c9": {
          "model_module": "@jupyter-widgets/controls",
          "model_module_version": "1.5.0",
          "model_name": "DescriptionStyleModel",
          "state": {
            "_model_module": "@jupyter-widgets/controls",
            "_model_module_version": "1.5.0",
            "_model_name": "DescriptionStyleModel",
            "_view_count": null,
            "_view_module": "@jupyter-widgets/base",
            "_view_module_version": "1.2.0",
            "_view_name": "StyleView",
            "description_width": ""
          }
        },
        "3fdf0c5e62f24f30b02bcdc37b17c2e7": {
          "model_module": "@jupyter-widgets/base",
          "model_module_version": "1.2.0",
          "model_name": "LayoutModel",
          "state": {
            "_model_module": "@jupyter-widgets/base",
            "_model_module_version": "1.2.0",
            "_model_name": "LayoutModel",
            "_view_count": null,
            "_view_module": "@jupyter-widgets/base",
            "_view_module_version": "1.2.0",
            "_view_name": "LayoutView",
            "align_content": null,
            "align_items": null,
            "align_self": null,
            "border": null,
            "bottom": null,
            "display": null,
            "flex": null,
            "flex_flow": null,
            "grid_area": null,
            "grid_auto_columns": null,
            "grid_auto_flow": null,
            "grid_auto_rows": null,
            "grid_column": null,
            "grid_gap": null,
            "grid_row": null,
            "grid_template_areas": null,
            "grid_template_columns": null,
            "grid_template_rows": null,
            "height": null,
            "justify_content": null,
            "justify_items": null,
            "left": null,
            "margin": null,
            "max_height": null,
            "max_width": null,
            "min_height": null,
            "min_width": null,
            "object_fit": null,
            "object_position": null,
            "order": null,
            "overflow": null,
            "overflow_x": null,
            "overflow_y": null,
            "padding": null,
            "right": null,
            "top": null,
            "visibility": null,
            "width": null
          }
        },
        "4024c181581c485abd3181586afc2574": {
          "model_module": "@jupyter-widgets/controls",
          "model_module_version": "1.5.0",
          "model_name": "FloatProgressModel",
          "state": {
            "_dom_classes": [],
            "_model_module": "@jupyter-widgets/controls",
            "_model_module_version": "1.5.0",
            "_model_name": "FloatProgressModel",
            "_view_count": null,
            "_view_module": "@jupyter-widgets/controls",
            "_view_module_version": "1.5.0",
            "_view_name": "ProgressView",
            "bar_style": "success",
            "description": "",
            "description_tooltip": null,
            "layout": "IPY_MODEL_3fdf0c5e62f24f30b02bcdc37b17c2e7",
            "max": 50,
            "min": 0,
            "orientation": "horizontal",
            "style": "IPY_MODEL_07c0dd1a8de149408b981a8892f6e46d",
            "value": 50
          }
        },
        "4932983d4f1a4199b3d24c730c765a24": {
          "model_module": "@jupyter-widgets/controls",
          "model_module_version": "1.5.0",
          "model_name": "ProgressStyleModel",
          "state": {
            "_model_module": "@jupyter-widgets/controls",
            "_model_module_version": "1.5.0",
            "_model_name": "ProgressStyleModel",
            "_view_count": null,
            "_view_module": "@jupyter-widgets/base",
            "_view_module_version": "1.2.0",
            "_view_name": "StyleView",
            "bar_color": null,
            "description_width": ""
          }
        },
        "5c53f97287d54c03a378fc44ab791cd7": {
          "model_module": "@jupyter-widgets/controls",
          "model_module_version": "1.5.0",
          "model_name": "DescriptionStyleModel",
          "state": {
            "_model_module": "@jupyter-widgets/controls",
            "_model_module_version": "1.5.0",
            "_model_name": "DescriptionStyleModel",
            "_view_count": null,
            "_view_module": "@jupyter-widgets/base",
            "_view_module_version": "1.2.0",
            "_view_name": "StyleView",
            "description_width": ""
          }
        },
        "5e9700580d6b4ad0bfac34bf3b3919fc": {
          "model_module": "@jupyter-widgets/base",
          "model_module_version": "1.2.0",
          "model_name": "LayoutModel",
          "state": {
            "_model_module": "@jupyter-widgets/base",
            "_model_module_version": "1.2.0",
            "_model_name": "LayoutModel",
            "_view_count": null,
            "_view_module": "@jupyter-widgets/base",
            "_view_module_version": "1.2.0",
            "_view_name": "LayoutView",
            "align_content": null,
            "align_items": null,
            "align_self": null,
            "border": null,
            "bottom": null,
            "display": null,
            "flex": null,
            "flex_flow": null,
            "grid_area": null,
            "grid_auto_columns": null,
            "grid_auto_flow": null,
            "grid_auto_rows": null,
            "grid_column": null,
            "grid_gap": null,
            "grid_row": null,
            "grid_template_areas": null,
            "grid_template_columns": null,
            "grid_template_rows": null,
            "height": null,
            "justify_content": null,
            "justify_items": null,
            "left": null,
            "margin": null,
            "max_height": null,
            "max_width": null,
            "min_height": null,
            "min_width": null,
            "object_fit": null,
            "object_position": null,
            "order": null,
            "overflow": null,
            "overflow_x": null,
            "overflow_y": null,
            "padding": null,
            "right": null,
            "top": null,
            "visibility": null,
            "width": null
          }
        },
        "5f03835168e64ec588c50ee21fedd198": {
          "model_module": "@jupyter-widgets/controls",
          "model_module_version": "1.5.0",
          "model_name": "HTMLModel",
          "state": {
            "_dom_classes": [],
            "_model_module": "@jupyter-widgets/controls",
            "_model_module_version": "1.5.0",
            "_model_name": "HTMLModel",
            "_view_count": null,
            "_view_module": "@jupyter-widgets/controls",
            "_view_module_version": "1.5.0",
            "_view_name": "HTMLView",
            "description": "",
            "description_tooltip": null,
            "layout": "IPY_MODEL_c20e9e14100d45f3bdff1b6df943940f",
            "placeholder": "​",
            "style": "IPY_MODEL_5c53f97287d54c03a378fc44ab791cd7",
            "value": " 50/50 [00:01&lt;00:00, 29.69it/s]"
          }
        },
        "60604227dac34e37a0a9f3bfb3984317": {
          "model_module": "@jupyter-widgets/controls",
          "model_module_version": "1.5.0",
          "model_name": "HTMLModel",
          "state": {
            "_dom_classes": [],
            "_model_module": "@jupyter-widgets/controls",
            "_model_module_version": "1.5.0",
            "_model_name": "HTMLModel",
            "_view_count": null,
            "_view_module": "@jupyter-widgets/controls",
            "_view_module_version": "1.5.0",
            "_view_name": "HTMLView",
            "description": "",
            "description_tooltip": null,
            "layout": "IPY_MODEL_3b74befc8d70471697ce6686ab4ac5c3",
            "placeholder": "​",
            "style": "IPY_MODEL_b2ff537e768b43ef98c412e633ab9e49",
            "value": "100%"
          }
        },
        "635162e10abc441797d4e5b74713bf44": {
          "model_module": "@jupyter-widgets/controls",
          "model_module_version": "1.5.0",
          "model_name": "HTMLModel",
          "state": {
            "_dom_classes": [],
            "_model_module": "@jupyter-widgets/controls",
            "_model_module_version": "1.5.0",
            "_model_name": "HTMLModel",
            "_view_count": null,
            "_view_module": "@jupyter-widgets/controls",
            "_view_module_version": "1.5.0",
            "_view_name": "HTMLView",
            "description": "",
            "description_tooltip": null,
            "layout": "IPY_MODEL_5e9700580d6b4ad0bfac34bf3b3919fc",
            "placeholder": "​",
            "style": "IPY_MODEL_a2c30462ef8d41fd9158f194a746d5a7",
            "value": " 50/50 [00:02&lt;00:00, 29.94it/s]"
          }
        },
        "6571f57262c447ce9177223fb583e707": {
          "model_module": "@jupyter-widgets/controls",
          "model_module_version": "1.5.0",
          "model_name": "FloatProgressModel",
          "state": {
            "_dom_classes": [],
            "_model_module": "@jupyter-widgets/controls",
            "_model_module_version": "1.5.0",
            "_model_name": "FloatProgressModel",
            "_view_count": null,
            "_view_module": "@jupyter-widgets/controls",
            "_view_module_version": "1.5.0",
            "_view_name": "ProgressView",
            "bar_style": "success",
            "description": "",
            "description_tooltip": null,
            "layout": "IPY_MODEL_70006fb01d6a49fb909e4a3bfc5b940a",
            "max": 50,
            "min": 0,
            "orientation": "horizontal",
            "style": "IPY_MODEL_7980b120d41247548f49667cea6156a5",
            "value": 50
          }
        },
        "66d406d6eb1f49699ee09c9a2fd4ffa9": {
          "model_module": "@jupyter-widgets/base",
          "model_module_version": "1.2.0",
          "model_name": "LayoutModel",
          "state": {
            "_model_module": "@jupyter-widgets/base",
            "_model_module_version": "1.2.0",
            "_model_name": "LayoutModel",
            "_view_count": null,
            "_view_module": "@jupyter-widgets/base",
            "_view_module_version": "1.2.0",
            "_view_name": "LayoutView",
            "align_content": null,
            "align_items": null,
            "align_self": null,
            "border": null,
            "bottom": null,
            "display": null,
            "flex": null,
            "flex_flow": null,
            "grid_area": null,
            "grid_auto_columns": null,
            "grid_auto_flow": null,
            "grid_auto_rows": null,
            "grid_column": null,
            "grid_gap": null,
            "grid_row": null,
            "grid_template_areas": null,
            "grid_template_columns": null,
            "grid_template_rows": null,
            "height": null,
            "justify_content": null,
            "justify_items": null,
            "left": null,
            "margin": null,
            "max_height": null,
            "max_width": null,
            "min_height": null,
            "min_width": null,
            "object_fit": null,
            "object_position": null,
            "order": null,
            "overflow": null,
            "overflow_x": null,
            "overflow_y": null,
            "padding": null,
            "right": null,
            "top": null,
            "visibility": null,
            "width": null
          }
        },
        "70006fb01d6a49fb909e4a3bfc5b940a": {
          "model_module": "@jupyter-widgets/base",
          "model_module_version": "1.2.0",
          "model_name": "LayoutModel",
          "state": {
            "_model_module": "@jupyter-widgets/base",
            "_model_module_version": "1.2.0",
            "_model_name": "LayoutModel",
            "_view_count": null,
            "_view_module": "@jupyter-widgets/base",
            "_view_module_version": "1.2.0",
            "_view_name": "LayoutView",
            "align_content": null,
            "align_items": null,
            "align_self": null,
            "border": null,
            "bottom": null,
            "display": null,
            "flex": null,
            "flex_flow": null,
            "grid_area": null,
            "grid_auto_columns": null,
            "grid_auto_flow": null,
            "grid_auto_rows": null,
            "grid_column": null,
            "grid_gap": null,
            "grid_row": null,
            "grid_template_areas": null,
            "grid_template_columns": null,
            "grid_template_rows": null,
            "height": null,
            "justify_content": null,
            "justify_items": null,
            "left": null,
            "margin": null,
            "max_height": null,
            "max_width": null,
            "min_height": null,
            "min_width": null,
            "object_fit": null,
            "object_position": null,
            "order": null,
            "overflow": null,
            "overflow_x": null,
            "overflow_y": null,
            "padding": null,
            "right": null,
            "top": null,
            "visibility": null,
            "width": null
          }
        },
        "720b4d010c364e3fbf72a53b267e8db9": {
          "model_module": "@jupyter-widgets/base",
          "model_module_version": "1.2.0",
          "model_name": "LayoutModel",
          "state": {
            "_model_module": "@jupyter-widgets/base",
            "_model_module_version": "1.2.0",
            "_model_name": "LayoutModel",
            "_view_count": null,
            "_view_module": "@jupyter-widgets/base",
            "_view_module_version": "1.2.0",
            "_view_name": "LayoutView",
            "align_content": null,
            "align_items": null,
            "align_self": null,
            "border": null,
            "bottom": null,
            "display": null,
            "flex": null,
            "flex_flow": null,
            "grid_area": null,
            "grid_auto_columns": null,
            "grid_auto_flow": null,
            "grid_auto_rows": null,
            "grid_column": null,
            "grid_gap": null,
            "grid_row": null,
            "grid_template_areas": null,
            "grid_template_columns": null,
            "grid_template_rows": null,
            "height": null,
            "justify_content": null,
            "justify_items": null,
            "left": null,
            "margin": null,
            "max_height": null,
            "max_width": null,
            "min_height": null,
            "min_width": null,
            "object_fit": null,
            "object_position": null,
            "order": null,
            "overflow": null,
            "overflow_x": null,
            "overflow_y": null,
            "padding": null,
            "right": null,
            "top": null,
            "visibility": null,
            "width": null
          }
        },
        "7761a50a602f41f1a21aa826c491eb9d": {
          "model_module": "@jupyter-widgets/controls",
          "model_module_version": "1.5.0",
          "model_name": "HTMLModel",
          "state": {
            "_dom_classes": [],
            "_model_module": "@jupyter-widgets/controls",
            "_model_module_version": "1.5.0",
            "_model_name": "HTMLModel",
            "_view_count": null,
            "_view_module": "@jupyter-widgets/controls",
            "_view_module_version": "1.5.0",
            "_view_name": "HTMLView",
            "description": "",
            "description_tooltip": null,
            "layout": "IPY_MODEL_b272384164504fa5b81d5502c12f8800",
            "placeholder": "​",
            "style": "IPY_MODEL_f525b9f19c334fe6b2305ad6bcfa20bf",
            "value": " 50/50 [00:01&lt;00:00, 28.55it/s]"
          }
        },
        "7980b120d41247548f49667cea6156a5": {
          "model_module": "@jupyter-widgets/controls",
          "model_module_version": "1.5.0",
          "model_name": "ProgressStyleModel",
          "state": {
            "_model_module": "@jupyter-widgets/controls",
            "_model_module_version": "1.5.0",
            "_model_name": "ProgressStyleModel",
            "_view_count": null,
            "_view_module": "@jupyter-widgets/base",
            "_view_module_version": "1.2.0",
            "_view_name": "StyleView",
            "bar_color": null,
            "description_width": ""
          }
        },
        "79b59cbde9444bf892931d31afec7f2a": {
          "model_module": "@jupyter-widgets/controls",
          "model_module_version": "1.5.0",
          "model_name": "HTMLModel",
          "state": {
            "_dom_classes": [],
            "_model_module": "@jupyter-widgets/controls",
            "_model_module_version": "1.5.0",
            "_model_name": "HTMLModel",
            "_view_count": null,
            "_view_module": "@jupyter-widgets/controls",
            "_view_module_version": "1.5.0",
            "_view_name": "HTMLView",
            "description": "",
            "description_tooltip": null,
            "layout": "IPY_MODEL_d9c33fbfb3164cbbb7b9a4cd172d20ae",
            "placeholder": "​",
            "style": "IPY_MODEL_df53331cce124bd1ada5aa9e9a977015",
            "value": "100%"
          }
        },
        "8211cc6c973a43fcaf18e14f6d7f08a2": {
          "model_module": "@jupyter-widgets/controls",
          "model_module_version": "1.5.0",
          "model_name": "HTMLModel",
          "state": {
            "_dom_classes": [],
            "_model_module": "@jupyter-widgets/controls",
            "_model_module_version": "1.5.0",
            "_model_name": "HTMLModel",
            "_view_count": null,
            "_view_module": "@jupyter-widgets/controls",
            "_view_module_version": "1.5.0",
            "_view_name": "HTMLView",
            "description": "",
            "description_tooltip": null,
            "layout": "IPY_MODEL_66d406d6eb1f49699ee09c9a2fd4ffa9",
            "placeholder": "​",
            "style": "IPY_MODEL_38341454dd6b4e9ca2fe5b85d2e371e1",
            "value": "100%"
          }
        },
        "83d947fc3338491ab4155b87c443884c": {
          "model_module": "@jupyter-widgets/controls",
          "model_module_version": "1.5.0",
          "model_name": "ProgressStyleModel",
          "state": {
            "_model_module": "@jupyter-widgets/controls",
            "_model_module_version": "1.5.0",
            "_model_name": "ProgressStyleModel",
            "_view_count": null,
            "_view_module": "@jupyter-widgets/base",
            "_view_module_version": "1.2.0",
            "_view_name": "StyleView",
            "bar_color": null,
            "description_width": ""
          }
        },
        "9f555c5ada38495eb4281cbb49169abe": {
          "model_module": "@jupyter-widgets/controls",
          "model_module_version": "1.5.0",
          "model_name": "HBoxModel",
          "state": {
            "_dom_classes": [],
            "_model_module": "@jupyter-widgets/controls",
            "_model_module_version": "1.5.0",
            "_model_name": "HBoxModel",
            "_view_count": null,
            "_view_module": "@jupyter-widgets/controls",
            "_view_module_version": "1.5.0",
            "_view_name": "HBoxView",
            "box_style": "",
            "children": [
              "IPY_MODEL_79b59cbde9444bf892931d31afec7f2a",
              "IPY_MODEL_a157870318114d459a33d795850967ef",
              "IPY_MODEL_635162e10abc441797d4e5b74713bf44"
            ],
            "layout": "IPY_MODEL_720b4d010c364e3fbf72a53b267e8db9"
          }
        },
        "a157870318114d459a33d795850967ef": {
          "model_module": "@jupyter-widgets/controls",
          "model_module_version": "1.5.0",
          "model_name": "FloatProgressModel",
          "state": {
            "_dom_classes": [],
            "_model_module": "@jupyter-widgets/controls",
            "_model_module_version": "1.5.0",
            "_model_name": "FloatProgressModel",
            "_view_count": null,
            "_view_module": "@jupyter-widgets/controls",
            "_view_module_version": "1.5.0",
            "_view_name": "ProgressView",
            "bar_style": "success",
            "description": "",
            "description_tooltip": null,
            "layout": "IPY_MODEL_229dad8e29f04c279c5603286e2c0643",
            "max": 50,
            "min": 0,
            "orientation": "horizontal",
            "style": "IPY_MODEL_83d947fc3338491ab4155b87c443884c",
            "value": 50
          }
        },
        "a2179cafb63f475db0162cd990a17ff7": {
          "model_module": "@jupyter-widgets/controls",
          "model_module_version": "1.5.0",
          "model_name": "HTMLModel",
          "state": {
            "_dom_classes": [],
            "_model_module": "@jupyter-widgets/controls",
            "_model_module_version": "1.5.0",
            "_model_name": "HTMLModel",
            "_view_count": null,
            "_view_module": "@jupyter-widgets/controls",
            "_view_module_version": "1.5.0",
            "_view_name": "HTMLView",
            "description": "",
            "description_tooltip": null,
            "layout": "IPY_MODEL_359ef2b8a4ac4a9c9a91edc4a2dd1326",
            "placeholder": "​",
            "style": "IPY_MODEL_c66dc6c14a4c4274900abe8fc993266a",
            "value": " 50/50 [00:01&lt;00:00, 28.62it/s]"
          }
        },
        "a2c30462ef8d41fd9158f194a746d5a7": {
          "model_module": "@jupyter-widgets/controls",
          "model_module_version": "1.5.0",
          "model_name": "DescriptionStyleModel",
          "state": {
            "_model_module": "@jupyter-widgets/controls",
            "_model_module_version": "1.5.0",
            "_model_name": "DescriptionStyleModel",
            "_view_count": null,
            "_view_module": "@jupyter-widgets/base",
            "_view_module_version": "1.2.0",
            "_view_name": "StyleView",
            "description_width": ""
          }
        },
        "a30c82833f55441995744300c2ef538d": {
          "model_module": "@jupyter-widgets/base",
          "model_module_version": "1.2.0",
          "model_name": "LayoutModel",
          "state": {
            "_model_module": "@jupyter-widgets/base",
            "_model_module_version": "1.2.0",
            "_model_name": "LayoutModel",
            "_view_count": null,
            "_view_module": "@jupyter-widgets/base",
            "_view_module_version": "1.2.0",
            "_view_name": "LayoutView",
            "align_content": null,
            "align_items": null,
            "align_self": null,
            "border": null,
            "bottom": null,
            "display": null,
            "flex": null,
            "flex_flow": null,
            "grid_area": null,
            "grid_auto_columns": null,
            "grid_auto_flow": null,
            "grid_auto_rows": null,
            "grid_column": null,
            "grid_gap": null,
            "grid_row": null,
            "grid_template_areas": null,
            "grid_template_columns": null,
            "grid_template_rows": null,
            "height": null,
            "justify_content": null,
            "justify_items": null,
            "left": null,
            "margin": null,
            "max_height": null,
            "max_width": null,
            "min_height": null,
            "min_width": null,
            "object_fit": null,
            "object_position": null,
            "order": null,
            "overflow": null,
            "overflow_x": null,
            "overflow_y": null,
            "padding": null,
            "right": null,
            "top": null,
            "visibility": null,
            "width": null
          }
        },
        "a8bdc4ecce4f48e0ba6483ea9e679336": {
          "model_module": "@jupyter-widgets/controls",
          "model_module_version": "1.5.0",
          "model_name": "HBoxModel",
          "state": {
            "_dom_classes": [],
            "_model_module": "@jupyter-widgets/controls",
            "_model_module_version": "1.5.0",
            "_model_name": "HBoxModel",
            "_view_count": null,
            "_view_module": "@jupyter-widgets/controls",
            "_view_module_version": "1.5.0",
            "_view_name": "HBoxView",
            "box_style": "",
            "children": [
              "IPY_MODEL_60604227dac34e37a0a9f3bfb3984317",
              "IPY_MODEL_4024c181581c485abd3181586afc2574",
              "IPY_MODEL_7761a50a602f41f1a21aa826c491eb9d"
            ],
            "layout": "IPY_MODEL_25ebd285de2e49c483c3b22b5c8364c0"
          }
        },
        "b272384164504fa5b81d5502c12f8800": {
          "model_module": "@jupyter-widgets/base",
          "model_module_version": "1.2.0",
          "model_name": "LayoutModel",
          "state": {
            "_model_module": "@jupyter-widgets/base",
            "_model_module_version": "1.2.0",
            "_model_name": "LayoutModel",
            "_view_count": null,
            "_view_module": "@jupyter-widgets/base",
            "_view_module_version": "1.2.0",
            "_view_name": "LayoutView",
            "align_content": null,
            "align_items": null,
            "align_self": null,
            "border": null,
            "bottom": null,
            "display": null,
            "flex": null,
            "flex_flow": null,
            "grid_area": null,
            "grid_auto_columns": null,
            "grid_auto_flow": null,
            "grid_auto_rows": null,
            "grid_column": null,
            "grid_gap": null,
            "grid_row": null,
            "grid_template_areas": null,
            "grid_template_columns": null,
            "grid_template_rows": null,
            "height": null,
            "justify_content": null,
            "justify_items": null,
            "left": null,
            "margin": null,
            "max_height": null,
            "max_width": null,
            "min_height": null,
            "min_width": null,
            "object_fit": null,
            "object_position": null,
            "order": null,
            "overflow": null,
            "overflow_x": null,
            "overflow_y": null,
            "padding": null,
            "right": null,
            "top": null,
            "visibility": null,
            "width": null
          }
        },
        "b2ff537e768b43ef98c412e633ab9e49": {
          "model_module": "@jupyter-widgets/controls",
          "model_module_version": "1.5.0",
          "model_name": "DescriptionStyleModel",
          "state": {
            "_model_module": "@jupyter-widgets/controls",
            "_model_module_version": "1.5.0",
            "_model_name": "DescriptionStyleModel",
            "_view_count": null,
            "_view_module": "@jupyter-widgets/base",
            "_view_module_version": "1.2.0",
            "_view_name": "StyleView",
            "description_width": ""
          }
        },
        "b833db18729f422cb86deed4be6f1900": {
          "model_module": "@jupyter-widgets/base",
          "model_module_version": "1.2.0",
          "model_name": "LayoutModel",
          "state": {
            "_model_module": "@jupyter-widgets/base",
            "_model_module_version": "1.2.0",
            "_model_name": "LayoutModel",
            "_view_count": null,
            "_view_module": "@jupyter-widgets/base",
            "_view_module_version": "1.2.0",
            "_view_name": "LayoutView",
            "align_content": null,
            "align_items": null,
            "align_self": null,
            "border": null,
            "bottom": null,
            "display": null,
            "flex": null,
            "flex_flow": null,
            "grid_area": null,
            "grid_auto_columns": null,
            "grid_auto_flow": null,
            "grid_auto_rows": null,
            "grid_column": null,
            "grid_gap": null,
            "grid_row": null,
            "grid_template_areas": null,
            "grid_template_columns": null,
            "grid_template_rows": null,
            "height": null,
            "justify_content": null,
            "justify_items": null,
            "left": null,
            "margin": null,
            "max_height": null,
            "max_width": null,
            "min_height": null,
            "min_width": null,
            "object_fit": null,
            "object_position": null,
            "order": null,
            "overflow": null,
            "overflow_x": null,
            "overflow_y": null,
            "padding": null,
            "right": null,
            "top": null,
            "visibility": null,
            "width": null
          }
        },
        "c0bb81765e93420796cd5f959e9d3534": {
          "model_module": "@jupyter-widgets/base",
          "model_module_version": "1.2.0",
          "model_name": "LayoutModel",
          "state": {
            "_model_module": "@jupyter-widgets/base",
            "_model_module_version": "1.2.0",
            "_model_name": "LayoutModel",
            "_view_count": null,
            "_view_module": "@jupyter-widgets/base",
            "_view_module_version": "1.2.0",
            "_view_name": "LayoutView",
            "align_content": null,
            "align_items": null,
            "align_self": null,
            "border": null,
            "bottom": null,
            "display": null,
            "flex": null,
            "flex_flow": null,
            "grid_area": null,
            "grid_auto_columns": null,
            "grid_auto_flow": null,
            "grid_auto_rows": null,
            "grid_column": null,
            "grid_gap": null,
            "grid_row": null,
            "grid_template_areas": null,
            "grid_template_columns": null,
            "grid_template_rows": null,
            "height": null,
            "justify_content": null,
            "justify_items": null,
            "left": null,
            "margin": null,
            "max_height": null,
            "max_width": null,
            "min_height": null,
            "min_width": null,
            "object_fit": null,
            "object_position": null,
            "order": null,
            "overflow": null,
            "overflow_x": null,
            "overflow_y": null,
            "padding": null,
            "right": null,
            "top": null,
            "visibility": null,
            "width": null
          }
        },
        "c20e9e14100d45f3bdff1b6df943940f": {
          "model_module": "@jupyter-widgets/base",
          "model_module_version": "1.2.0",
          "model_name": "LayoutModel",
          "state": {
            "_model_module": "@jupyter-widgets/base",
            "_model_module_version": "1.2.0",
            "_model_name": "LayoutModel",
            "_view_count": null,
            "_view_module": "@jupyter-widgets/base",
            "_view_module_version": "1.2.0",
            "_view_name": "LayoutView",
            "align_content": null,
            "align_items": null,
            "align_self": null,
            "border": null,
            "bottom": null,
            "display": null,
            "flex": null,
            "flex_flow": null,
            "grid_area": null,
            "grid_auto_columns": null,
            "grid_auto_flow": null,
            "grid_auto_rows": null,
            "grid_column": null,
            "grid_gap": null,
            "grid_row": null,
            "grid_template_areas": null,
            "grid_template_columns": null,
            "grid_template_rows": null,
            "height": null,
            "justify_content": null,
            "justify_items": null,
            "left": null,
            "margin": null,
            "max_height": null,
            "max_width": null,
            "min_height": null,
            "min_width": null,
            "object_fit": null,
            "object_position": null,
            "order": null,
            "overflow": null,
            "overflow_x": null,
            "overflow_y": null,
            "padding": null,
            "right": null,
            "top": null,
            "visibility": null,
            "width": null
          }
        },
        "c66dc6c14a4c4274900abe8fc993266a": {
          "model_module": "@jupyter-widgets/controls",
          "model_module_version": "1.5.0",
          "model_name": "DescriptionStyleModel",
          "state": {
            "_model_module": "@jupyter-widgets/controls",
            "_model_module_version": "1.5.0",
            "_model_name": "DescriptionStyleModel",
            "_view_count": null,
            "_view_module": "@jupyter-widgets/base",
            "_view_module_version": "1.2.0",
            "_view_name": "StyleView",
            "description_width": ""
          }
        },
        "d9c33fbfb3164cbbb7b9a4cd172d20ae": {
          "model_module": "@jupyter-widgets/base",
          "model_module_version": "1.2.0",
          "model_name": "LayoutModel",
          "state": {
            "_model_module": "@jupyter-widgets/base",
            "_model_module_version": "1.2.0",
            "_model_name": "LayoutModel",
            "_view_count": null,
            "_view_module": "@jupyter-widgets/base",
            "_view_module_version": "1.2.0",
            "_view_name": "LayoutView",
            "align_content": null,
            "align_items": null,
            "align_self": null,
            "border": null,
            "bottom": null,
            "display": null,
            "flex": null,
            "flex_flow": null,
            "grid_area": null,
            "grid_auto_columns": null,
            "grid_auto_flow": null,
            "grid_auto_rows": null,
            "grid_column": null,
            "grid_gap": null,
            "grid_row": null,
            "grid_template_areas": null,
            "grid_template_columns": null,
            "grid_template_rows": null,
            "height": null,
            "justify_content": null,
            "justify_items": null,
            "left": null,
            "margin": null,
            "max_height": null,
            "max_width": null,
            "min_height": null,
            "min_width": null,
            "object_fit": null,
            "object_position": null,
            "order": null,
            "overflow": null,
            "overflow_x": null,
            "overflow_y": null,
            "padding": null,
            "right": null,
            "top": null,
            "visibility": null,
            "width": null
          }
        },
        "df53331cce124bd1ada5aa9e9a977015": {
          "model_module": "@jupyter-widgets/controls",
          "model_module_version": "1.5.0",
          "model_name": "DescriptionStyleModel",
          "state": {
            "_model_module": "@jupyter-widgets/controls",
            "_model_module_version": "1.5.0",
            "_model_name": "DescriptionStyleModel",
            "_view_count": null,
            "_view_module": "@jupyter-widgets/base",
            "_view_module_version": "1.2.0",
            "_view_name": "StyleView",
            "description_width": ""
          }
        },
        "f525b9f19c334fe6b2305ad6bcfa20bf": {
          "model_module": "@jupyter-widgets/controls",
          "model_module_version": "1.5.0",
          "model_name": "DescriptionStyleModel",
          "state": {
            "_model_module": "@jupyter-widgets/controls",
            "_model_module_version": "1.5.0",
            "_model_name": "DescriptionStyleModel",
            "_view_count": null,
            "_view_module": "@jupyter-widgets/base",
            "_view_module_version": "1.2.0",
            "_view_name": "StyleView",
            "description_width": ""
          }
        },
        "fe6cae73e861414eaff54680113676bc": {
          "model_module": "@jupyter-widgets/base",
          "model_module_version": "1.2.0",
          "model_name": "LayoutModel",
          "state": {
            "_model_module": "@jupyter-widgets/base",
            "_model_module_version": "1.2.0",
            "_model_name": "LayoutModel",
            "_view_count": null,
            "_view_module": "@jupyter-widgets/base",
            "_view_module_version": "1.2.0",
            "_view_name": "LayoutView",
            "align_content": null,
            "align_items": null,
            "align_self": null,
            "border": null,
            "bottom": null,
            "display": null,
            "flex": null,
            "flex_flow": null,
            "grid_area": null,
            "grid_auto_columns": null,
            "grid_auto_flow": null,
            "grid_auto_rows": null,
            "grid_column": null,
            "grid_gap": null,
            "grid_row": null,
            "grid_template_areas": null,
            "grid_template_columns": null,
            "grid_template_rows": null,
            "height": null,
            "justify_content": null,
            "justify_items": null,
            "left": null,
            "margin": null,
            "max_height": null,
            "max_width": null,
            "min_height": null,
            "min_width": null,
            "object_fit": null,
            "object_position": null,
            "order": null,
            "overflow": null,
            "overflow_x": null,
            "overflow_y": null,
            "padding": null,
            "right": null,
            "top": null,
            "visibility": null,
            "width": null
          }
        }
      }
    }
  },
  "nbformat": 4,
  "nbformat_minor": 0
}
