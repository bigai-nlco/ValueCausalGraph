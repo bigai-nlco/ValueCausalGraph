{
 "cells": [
  {
   "cell_type": "code",
   "execution_count": 32,
   "metadata": {},
   "outputs": [
    {
     "name": "stdout",
     "output_type": "stream",
     "text": [
      "{'nodes': {'Achievement': ['valuebench/value_questions_Achievement.html'], 'Aesthetic': ['valuebench/value_questions_Aesthetic.html'], 'Anxiety Disorder': ['valuebench/value_questions_Anxiety Disorder.html'], 'Breadth of Interest': ['valuebench/value_questions_Breadth of Interest.html'], 'Economic': ['valuebench/value_questions_Economic.html'], 'Empathy': ['valuebench/value_questions_Empathy.html'], 'Organization': ['valuebench/value_questions_Organization.html'], 'Political': ['valuebench/value_questions_Political.html'], 'Positive coping': ['valuebench/value_questions_Positive coping.html'], 'Religious': ['valuebench/value_questions_Religious.html'], 'Resilience': ['valuebench/value_questions_Resilience.html'], 'Social': ['valuebench/value_questions_Social.html'], 'Social Complexity': ['valuebench/value_questions_Social Complexity.html'], 'Social Cynicism': ['valuebench/value_questions_Social Cynicism.html'], 'Theoretical': ['valuebench/value_questions_Theoretical.html'], 'Uncertainty Avoidance': ['valuebench/value_questions_Uncertainty Avoidance.html'], 'Understanding': ['valuebench/value_questions_Understanding.html']}, 'edges': {'gemma': [['Achievement', 'Religious', 1, 'single-arrow'], ['Religious', 'Achievement', 1, 'single-arrow'], ['Anxiety Disorder', 'Social Cynicism', 1, 'single-arrow'], ['Social Cynicism', 'Anxiety Disorder', 1, 'single-arrow'], ['Economic', 'Uncertainty Avoidance', 1, 'single-arrow'], ['Uncertainty Avoidance', 'Economic', 1, 'single-arrow'], ['Empathy', 'Organization', 1, 'single-arrow'], ['Organization', 'Empathy', 1, 'single-arrow'], ['Political', 'Positive coping', 1, 'single-arrow'], ['Religious', 'Positive coping', 1, 'single-arrow'], ['Resilience', 'Social', 1, 'single-arrow'], ['Social', 'Resilience', 1, 'single-arrow'], ['Positive coping', 'Understanding', 1, 'single-arrow'], ['Resilience', 'Understanding', 1, 'single-arrow']], 'llama': [['Achievement', 'Empathy', 1, 'single-arrow'], ['Empathy', 'Achievement', 1, 'single-arrow'], ['Aesthetic', 'Political', 1, 'single-arrow'], ['Political', 'Aesthetic', 1, 'single-arrow'], ['Social Complexity', 'Anxiety Disorder', 1, 'single-arrow'], ['Theoretical', 'Anxiety Disorder', 1, 'single-arrow'], ['Breadth of Interest', 'Social', 1, 'single-arrow'], ['Social', 'Breadth of Interest', 1, 'single-arrow'], ['Economic', 'Resilience', 1, 'single-arrow'], ['Organization', 'Resilience', 1, 'single-arrow'], ['Positive coping', 'Theoretical', 1, 'single-arrow'], ['Religious', 'Understanding', 1, 'single-arrow'], ['Understanding', 'Religious', 1, 'single-arrow'], ['Social Cynicism', 'Theoretical', 1, 'single-arrow'], ['Social Complexity', 'Theoretical', 1, 'single-arrow'], ['Anxiety Disorder', 'Theoretical', 1, 'single-arrow'], ['Uncertainty Avoidance', 'Theoretical', 1, 'single-arrow'], ['Aesthetic', 'Theoretical', 1, 'single-arrow'], ['Breadth of Interest', 'Theoretical', 1, 'single-arrow']], 'reference': [['Positive coping', 'Resilience', 1, 'single-arrow'], ['Empathy', 'Social', 1, 'single-arrow'], ['Empathy', 'Resilience', 1, 'single-arrow'], ['Resilience', 'Achievement', 1, 'single-arrow'], ['Social Complexity', 'Breadth of Interest', 1, 'single-arrow'], ['Uncertainty Avoidance', 'Anxiety Disorder', 1, 'single-arrow'], ['Anxiety Disorder', 'Social Cynicism', 1, 'single-arrow'], ['Economic', 'Organization', 1, 'single-arrow'], ['Political', 'Social Cynicism', 1, 'single-arrow'], ['Religious', 'Understanding', 1, 'single-arrow']]}}\n",
      "gemma\n",
      "llama\n",
      "reference\n",
      "{'Achievement': {'id': 1, 'label': 'Achievement', 'value': ['valuebench/value_questions_Achievement.html'], 'mass': 6}, 'Aesthetic': {'id': 2, 'label': 'Aesthetic', 'value': ['valuebench/value_questions_Aesthetic.html'], 'mass': 4}, 'Anxiety Disorder': {'id': 3, 'label': 'Anxiety Disorder', 'value': ['valuebench/value_questions_Anxiety Disorder.html'], 'mass': 8}, 'Breadth of Interest': {'id': 4, 'label': 'Breadth of Interest', 'value': ['valuebench/value_questions_Breadth of Interest.html'], 'mass': 5}, 'Economic': {'id': 5, 'label': 'Economic', 'value': ['valuebench/value_questions_Economic.html'], 'mass': 5}, 'Empathy': {'id': 6, 'label': 'Empathy', 'value': ['valuebench/value_questions_Empathy.html'], 'mass': 7}, 'Organization': {'id': 7, 'label': 'Organization', 'value': ['valuebench/value_questions_Organization.html'], 'mass': 5}, 'Political': {'id': 8, 'label': 'Political', 'value': ['valuebench/value_questions_Political.html'], 'mass': 5}, 'Positive coping': {'id': 9, 'label': 'Positive coping', 'value': ['valuebench/value_questions_Positive coping.html'], 'mass': 6}, 'Religious': {'id': 10, 'label': 'Religious', 'value': ['valuebench/value_questions_Religious.html'], 'mass': 7}, 'Resilience': {'id': 11, 'label': 'Resilience', 'value': ['valuebench/value_questions_Resilience.html'], 'mass': 9}, 'Social': {'id': 12, 'label': 'Social', 'value': ['valuebench/value_questions_Social.html'], 'mass': 6}, 'Social Complexity': {'id': 13, 'label': 'Social Complexity', 'value': ['valuebench/value_questions_Social Complexity.html'], 'mass': 4}, 'Social Cynicism': {'id': 14, 'label': 'Social Cynicism', 'value': ['valuebench/value_questions_Social Cynicism.html'], 'mass': 6}, 'Theoretical': {'id': 15, 'label': 'Theoretical', 'value': ['valuebench/value_questions_Theoretical.html'], 'mass': 9}, 'Uncertainty Avoidance': {'id': 16, 'label': 'Uncertainty Avoidance', 'value': ['valuebench/value_questions_Uncertainty Avoidance.html'], 'mass': 5}, 'Understanding': {'id': 17, 'label': 'Understanding', 'value': ['valuebench/value_questions_Understanding.html'], 'mass': 6}}\n",
      "[{'from': 1, 'to': 10, 'weight': 1, 'line': 'single-arrow', 'label': 'Achievement', 'model': 'gemma'}, {'from': 10, 'to': 1, 'weight': 1, 'line': 'single-arrow', 'label': 'Religious', 'model': 'gemma'}, {'from': 3, 'to': 14, 'weight': 1, 'line': 'single-arrow', 'label': 'Anxiety Disorder', 'model': 'gemma'}, {'from': 14, 'to': 3, 'weight': 1, 'line': 'single-arrow', 'label': 'Social Cynicism', 'model': 'gemma'}, {'from': 5, 'to': 16, 'weight': 1, 'line': 'single-arrow', 'label': 'Economic', 'model': 'gemma'}, {'from': 16, 'to': 5, 'weight': 1, 'line': 'single-arrow', 'label': 'Uncertainty Avoidance', 'model': 'gemma'}, {'from': 6, 'to': 7, 'weight': 1, 'line': 'single-arrow', 'label': 'Empathy', 'model': 'gemma'}, {'from': 7, 'to': 6, 'weight': 1, 'line': 'single-arrow', 'label': 'Organization', 'model': 'gemma'}, {'from': 8, 'to': 9, 'weight': 1, 'line': 'single-arrow', 'label': 'Political', 'model': 'gemma'}, {'from': 10, 'to': 9, 'weight': 1, 'line': 'single-arrow', 'label': 'Religious', 'model': 'gemma'}, {'from': 11, 'to': 12, 'weight': 1, 'line': 'single-arrow', 'label': 'Resilience', 'model': 'gemma'}, {'from': 12, 'to': 11, 'weight': 1, 'line': 'single-arrow', 'label': 'Social', 'model': 'gemma'}, {'from': 9, 'to': 17, 'weight': 1, 'line': 'single-arrow', 'label': 'Positive coping', 'model': 'gemma'}, {'from': 11, 'to': 17, 'weight': 1, 'line': 'single-arrow', 'label': 'Resilience', 'model': 'gemma'}, {'from': 1, 'to': 6, 'weight': 1, 'line': 'single-arrow', 'label': 'Achievement', 'model': 'llama'}, {'from': 6, 'to': 1, 'weight': 1, 'line': 'single-arrow', 'label': 'Empathy', 'model': 'llama'}, {'from': 2, 'to': 8, 'weight': 1, 'line': 'single-arrow', 'label': 'Aesthetic', 'model': 'llama'}, {'from': 8, 'to': 2, 'weight': 1, 'line': 'single-arrow', 'label': 'Political', 'model': 'llama'}, {'from': 13, 'to': 3, 'weight': 1, 'line': 'single-arrow', 'label': 'Social Complexity', 'model': 'llama'}, {'from': 15, 'to': 3, 'weight': 1, 'line': 'single-arrow', 'label': 'Theoretical', 'model': 'llama'}, {'from': 4, 'to': 12, 'weight': 1, 'line': 'single-arrow', 'label': 'Breadth of Interest', 'model': 'llama'}, {'from': 12, 'to': 4, 'weight': 1, 'line': 'single-arrow', 'label': 'Social', 'model': 'llama'}, {'from': 5, 'to': 11, 'weight': 1, 'line': 'single-arrow', 'label': 'Economic', 'model': 'llama'}, {'from': 7, 'to': 11, 'weight': 1, 'line': 'single-arrow', 'label': 'Organization', 'model': 'llama'}, {'from': 9, 'to': 15, 'weight': 1, 'line': 'single-arrow', 'label': 'Positive coping', 'model': 'llama'}, {'from': 10, 'to': 17, 'weight': 1, 'line': 'single-arrow', 'label': 'Religious', 'model': 'llama'}, {'from': 17, 'to': 10, 'weight': 1, 'line': 'single-arrow', 'label': 'Understanding', 'model': 'llama'}, {'from': 14, 'to': 15, 'weight': 1, 'line': 'single-arrow', 'label': 'Social Cynicism', 'model': 'llama'}, {'from': 13, 'to': 15, 'weight': 1, 'line': 'single-arrow', 'label': 'Social Complexity', 'model': 'llama'}, {'from': 3, 'to': 15, 'weight': 1, 'line': 'single-arrow', 'label': 'Anxiety Disorder', 'model': 'llama'}, {'from': 16, 'to': 15, 'weight': 1, 'line': 'single-arrow', 'label': 'Uncertainty Avoidance', 'model': 'llama'}, {'from': 2, 'to': 15, 'weight': 1, 'line': 'single-arrow', 'label': 'Aesthetic', 'model': 'llama'}, {'from': 4, 'to': 15, 'weight': 1, 'line': 'single-arrow', 'label': 'Breadth of Interest', 'model': 'llama'}, {'from': 9, 'to': 11, 'weight': 1, 'line': 'single-arrow', 'label': 'Positive coping', 'model': 'reference'}, {'from': 6, 'to': 12, 'weight': 1, 'line': 'single-arrow', 'label': 'Empathy', 'model': 'reference'}, {'from': 6, 'to': 11, 'weight': 1, 'line': 'single-arrow', 'label': 'Empathy', 'model': 'reference'}, {'from': 11, 'to': 1, 'weight': 1, 'line': 'single-arrow', 'label': 'Resilience', 'model': 'reference'}, {'from': 13, 'to': 4, 'weight': 1, 'line': 'single-arrow', 'label': 'Social Complexity', 'model': 'reference'}, {'from': 16, 'to': 3, 'weight': 1, 'line': 'single-arrow', 'label': 'Uncertainty Avoidance', 'model': 'reference'}, {'from': 3, 'to': 14, 'weight': 1, 'line': 'single-arrow', 'label': 'Anxiety Disorder', 'model': 'reference'}, {'from': 5, 'to': 7, 'weight': 1, 'line': 'single-arrow', 'label': 'Economic', 'model': 'reference'}, {'from': 8, 'to': 14, 'weight': 1, 'line': 'single-arrow', 'label': 'Political', 'model': 'reference'}, {'from': 10, 'to': 17, 'weight': 1, 'line': 'single-arrow', 'label': 'Religious', 'model': 'reference'}]\n"
     ]
    }
   ],
   "source": [
    "import json\n",
    "with open('value_graph_data1.json', 'r', encoding='utf-8') as f:\n",
    "    data = json.load(f)\n",
    "    print(data)\n",
    "    nodes = {}\n",
    "    edges = []\n",
    "    nodes_j = data['nodes']\n",
    "    edges_j = data['edges']\n",
    "    index = 1\n",
    "    # print(nodes_j.keys())\n",
    "    # print(edges_j)\n",
    "    for key, value in nodes_j.items():\n",
    "        nodes[key] = {\n",
    "            \"id\":index,\n",
    "            \"label\":key,\n",
    "            \"value\":value,\n",
    "            \"mass\":1\n",
    "        }\n",
    "        index += 1\n",
    "    \n",
    "    for model, model_edges in edges_j.items():\n",
    "        print(model)\n",
    "        for edge in model_edges:\n",
    "            edges.append({\n",
    "                \"from\":nodes[edge[0]][\"id\"],\n",
    "                \"to\":nodes[edge[1]][\"id\"],\n",
    "                \"weight\":edge[2],\n",
    "                \"line\":edge[3],\n",
    "                \"label\": \"->\".join(edge[0:1]),\n",
    "                \"model\": model\n",
    "            })\n",
    "            nodes[edge[0]][\"mass\"] += 1\n",
    "            nodes[edge[1]][\"mass\"] += 1\n",
    "\n",
    "print(nodes)\n",
    "print(edges)\n",
    "    \n"
   ]
  },
  {
   "cell_type": "code",
   "execution_count": 33,
   "metadata": {},
   "outputs": [
    {
     "name": "stdout",
     "output_type": "stream",
     "text": [
      "[(850.0, 250.0), (809.4833376426135, 466.74499971229176), (693.4053503323955, 654.2173861879344), (517.4430134659231, 787.0979748130374), (305.3610156779812, 847.4405057770207), (85.80220595675027, 827.0953859036914), (-111.58078182755378, 728.8103363681437), (-260.1302814377684, 565.8592977264136), (-339.783859810341, 360.2497106899422), (-339.783859810341, 139.75028931005792), (-260.1302814377685, -65.8592977264135), (-111.58078182755429, -228.81033636814334), (85.80220595675013, -327.0953859036914), (305.36101567798147, -347.4405057770207), (517.4430134659226, -287.0979748130376), (693.4053503323951, -154.21738618793466), (809.4833376426135, 33.255000287708185)]\n",
      "simple_network.html\n"
     ]
    }
   ],
   "source": [
    "import math\n",
    "from pyvis.network import Network\n",
    "import networkx as nx\n",
    "\n",
    "def get_circle_nodes(n, r, x_center, y_center):\n",
    "    nodes = []\n",
    "    for i in range(n):\n",
    "        angle = 2 * math.pi * i / n  # 计算每个节点的角度\n",
    "        x_i = x_center + r * math.cos(angle)  # 计算x坐标\n",
    "        y_i = y_center + r * math.sin(angle)  # 计算y坐标\n",
    "        nodes.append((x_i, y_i))\n",
    "    return nodes\n",
    "\n",
    "positions = get_circle_nodes(len(nodes), r=600, x_center=250, y_center=250)\n",
    "print(positions)\n",
    "model_color = {\n",
    "    \"gemma\":\"#F4C6E5\", # 粉色\n",
    "    \"llama\":\"#54DEFD\", # 蓝色\n",
    "    \"reference\":\"#B1D076\" #绿色\n",
    "}\n",
    "model_smooth = {\n",
    "    \"gemma\":{\"type\":\"curvedCW\", \"roundness\": 0.2}, \n",
    "    \"llama\":{\"type\":\"curvedCCW\", \"roundness\": 0.2}, \n",
    "    \"reference\":{\"type\":\"curvedCW\", \"roundness\": 0}\n",
    "}\n",
    "edge_line = {\n",
    "    \"single-arrow\":\"to\",\n",
    "    \"no-arrow\":\"\",\n",
    "    \"double-arrow\": \"to,from\"\n",
    "}\n",
    "\n",
    "#g = nx.MultiGraph()\n",
    "g = nx.MultiDiGraph()\n",
    "for node in nodes:\n",
    "    g.add_node(nodes[node]['id'], label=node, color='#FEAD34', shape='dot', size=nodes[node]['mass']*3,  mass=nodes[node]['mass'])\n",
    "id = 0\n",
    "for edge in edges:\n",
    "    #if edge[\"model\"] != \"llama\":\n",
    "    if True:\n",
    "        g.add_edge(edge['from'], edge['to'], id=id, lebel=edge[\"label\"], smooth=model_smooth[edge[\"model\"]], color=model_color[edge[\"model\"]], arrows=edge_line[edge[\"line\"]], width=2)\n",
    "    id += 1\n",
    "\n",
    "net = Network(directed=True, height='1000px', width='50%', bgcolor='white', font_color='#222222',  select_menu=True, filter_menu=True)\n",
    "\n",
    "net.from_nx(g)\n",
    "#add legend for each model, align the legends' postions in a row\n",
    "y = 0\n",
    "for model in model_color:\n",
    "    #if edge[\"model\"] != \"llama\":\n",
    "    if True:\n",
    "        net.add_node(model, label=model, color=model_color[model], shape='box', size=3, mass=1, x=0, y=y, physics=False)\n",
    "        y += 1\n",
    "    \n",
    "\n",
    "net.show_buttons(filter_=['physics'])\n",
    "net.toggle_physics(True)\n",
    "net.set_edge_smooth('dynamic')\n",
    "net.show('simple_network.html', notebook=False)\n"
   ]
  }
 ],
 "metadata": {
  "kernelspec": {
   "display_name": "pyenv_sae",
   "language": "python",
   "name": "python3"
  },
  "language_info": {
   "codemirror_mode": {
    "name": "ipython",
    "version": 3
   },
   "file_extension": ".py",
   "mimetype": "text/x-python",
   "name": "python",
   "nbconvert_exporter": "python",
   "pygments_lexer": "ipython3",
   "version": "3.11.9"
  },
  "orig_nbformat": 4
 },
 "nbformat": 4,
 "nbformat_minor": 2
}
