{
 "cells": [
  {
   "cell_type": "code",
   "execution_count": 29,
   "metadata": {},
   "outputs": [
    {
     "name": "stdout",
     "output_type": "stream",
     "text": [
      "{'nodes': {'Achievement': ['valuebench/value_questions_Achievement.html'], 'Aesthetic': ['valuebench/value_questions_Aesthetic.html'], 'Anxiety Disorder': ['valuebench/value_questions_Anxiety Disorder.html'], 'Breadth of Interest': ['valuebench/value_questions_Breadth of Interest.html'], 'Economic': ['valuebench/value_questions_Economic.html'], 'Empathy': ['valuebench/value_questions_Empathy.html'], 'Organization': ['valuebench/value_questions_Organization.html'], 'Political': ['valuebench/value_questions_Political.html'], 'Positive coping': ['valuebench/value_questions_Positive coping.html'], 'Religious': ['valuebench/value_questions_Religious.html'], 'Resilience': ['valuebench/value_questions_Resilience.html'], 'Social': ['valuebench/value_questions_Social.html'], 'Social Complexity': ['valuebench/value_questions_Social Complexity.html'], 'Social Cynicism': ['valuebench/value_questions_Social Cynicism.html'], 'Theoretical': ['valuebench/value_questions_Theoretical.html'], 'Uncertainty Avoidance': ['valuebench/value_questions_Uncertainty Avoidance.html'], 'Understanding': ['valuebench/value_questions_Understanding.html']}, 'edges': {'gemma': [['Empathy', 'Achievement', 1, 'single-arrow'], ['Religious', 'Achievement', 1, 'single-arrow'], ['Resilience', 'Achievement', 1, 'single-arrow'], ['Understanding', 'Achievement', 1, 'single-arrow'], ['Anxiety Disorder', 'Aesthetic', 1, 'single-arrow'], ['Empathy', 'Aesthetic', 1, 'single-arrow'], ['Organization', 'Aesthetic', 1, 'single-arrow'], ['Positive coping', 'Aesthetic', 1, 'single-arrow'], ['Resilience', 'Aesthetic', 1, 'single-arrow'], ['Social', 'Aesthetic', 1, 'single-arrow'], ['Social Complexity', 'Aesthetic', 1, 'single-arrow'], ['Breadth of Interest', 'Anxiety Disorder', 1, 'single-arrow'], ['Resilience', 'Anxiety Disorder', 1, 'single-arrow'], ['Social Complexity', 'Anxiety Disorder', 1, 'single-arrow'], ['Social Cynicism', 'Anxiety Disorder', 1, 'single-arrow'], ['Theoretical', 'Anxiety Disorder', 1, 'single-arrow'], ['Organization', 'Breadth of Interest', 1, 'single-arrow'], ['Religious', 'Breadth of Interest', 1, 'single-arrow'], ['Uncertainty Avoidance', 'Breadth of Interest', 1, 'single-arrow'], ['Understanding', 'Breadth of Interest', 1, 'single-arrow'], ['Empathy', 'Economic', 1, 'single-arrow'], ['Organization', 'Economic', 1, 'single-arrow'], ['Positive coping', 'Economic', 1, 'single-arrow'], ['Social Complexity', 'Economic', 1, 'single-arrow'], ['Social Cynicism', 'Economic', 1, 'single-arrow'], ['Understanding', 'Economic', 1, 'single-arrow'], ['Religious', 'Empathy', 1, 'single-arrow'], ['Social Cynicism', 'Empathy', 1, 'single-arrow'], ['Theoretical', 'Empathy', 1, 'single-arrow'], ['Understanding', 'Empathy', 1, 'single-arrow'], ['Organization', 'Positive coping', 1, 'no-arrow'], ['Positive coping', 'Political', 1, 'single-arrow'], ['Religious', 'Political', 1, 'single-arrow'], ['Social', 'Political', 1, 'single-arrow'], ['Positive coping', 'Religious', 1, 'no-arrow'], ['Social', 'Resilience', 1, 'single-arrow'], ['Social Complexity', 'Resilience', 1, 'single-arrow'], ['Social Cynicism', 'Resilience', 1, 'single-arrow'], ['Social', 'Theoretical', 1, 'single-arrow'], ['Social', 'Uncertainty Avoidance', 1, 'no-arrow'], ['Social Complexity', 'Theoretical', 1, 'single-arrow'], ['Uncertainty Avoidance', 'Social Cynicism', 1, 'single-arrow'], ['Understanding', 'Social Cynicism', 1, 'single-arrow'], ['Uncertainty Avoidance', 'Theoretical', 1, 'single-arrow']], 'llama': [['Achievement', 'Breadth of Interest', 1, 'single-arrow'], ['Achievement', 'Empathy', 1, 'single-arrow'], ['Positive coping', 'Achievement', 1, 'single-arrow'], ['Religious', 'Achievement', 1, 'single-arrow'], ['Anxiety Disorder', 'Aesthetic', 1, 'single-arrow'], ['Political', 'Aesthetic', 1, 'single-arrow'], ['Uncertainty Avoidance', 'Aesthetic', 1, 'single-arrow'], ['Breadth of Interest', 'Anxiety Disorder', 1, 'single-arrow'], ['Anxiety Disorder', 'Organization', 1, 'single-arrow'], ['Breadth of Interest', 'Resilience', 1, 'single-arrow'], ['Breadth of Interest', 'Social', 1, 'single-arrow'], ['Breadth of Interest', 'Social Complexity', 1, 'single-arrow'], ['Breadth of Interest', 'Social Cynicism', 1, 'single-arrow'], ['Breadth of Interest', 'Understanding', 1, 'single-arrow'], ['Economic', 'Resilience', 1, 'single-arrow'], ['Organization', 'Empathy', 1, 'single-arrow'], ['Resilience', 'Empathy', 1, 'single-arrow'], ['Empathy', 'Social', 1, 'single-arrow'], ['Social Cynicism', 'Empathy', 1, 'single-arrow'], ['Understanding', 'Empathy', 1, 'single-arrow'], ['Organization', 'Positive coping', 1, 'single-arrow'], ['Organization', 'Resilience', 1, 'single-arrow'], ['Organization', 'Social Complexity', 1, 'single-arrow'], ['Organization', 'Social Cynicism', 1, 'single-arrow'], ['Theoretical', 'Organization', 1, 'single-arrow'], ['Organization', 'Understanding', 1, 'single-arrow'], ['Political', 'Social Cynicism', 1, 'single-arrow'], ['Political', 'Understanding', 1, 'single-arrow'], ['Positive coping', 'Resilience', 1, 'single-arrow'], ['Theoretical', 'Positive coping', 1, 'single-arrow'], ['Religious', 'Uncertainty Avoidance', 1, 'no-arrow'], ['Social Complexity', 'Resilience', 1, 'single-arrow'], ['Theoretical', 'Resilience', 1, 'single-arrow'], ['Understanding', 'Resilience', 1, 'single-arrow'], ['Theoretical', 'Social', 1, 'single-arrow'], ['Social Cynicism', 'Social Complexity', 1, 'single-arrow'], ['Theoretical', 'Social Complexity', 1, 'single-arrow'], ['Uncertainty Avoidance', 'Social Complexity', 1, 'single-arrow'], ['Social Complexity', 'Understanding', 1, 'single-arrow'], ['Social Cynicism', 'Understanding', 1, 'single-arrow']], 'reference': [['Positive coping', 'Resilience', 1, 'single-arrow'], ['Empathy', 'Social', 1, 'single-arrow'], ['Empathy', 'Resilience', 1, 'single-arrow'], ['Resilience', 'Achievement', 1, 'single-arrow'], ['Social Complexity', 'Breadth of Interest', 1, 'single-arrow'], ['Uncertainty Avoidance', 'Anxiety Disorder', 1, 'single-arrow'], ['Anxiety Disorder', 'Social Cynicism', 1, 'single-arrow'], ['Economic', 'Organization', 1, 'single-arrow'], ['Political', 'Social Cynicism', 1, 'single-arrow'], ['Religious', 'Understanding', 1, 'single-arrow']]}}\n",
      "gemma\n",
      "llama\n",
      "reference\n",
      "{'Achievement': {'id': 1, 'label': 'Achievement', 'value': ['valuebench/value_questions_Achievement.html'], 'mass': 10}, 'Aesthetic': {'id': 2, 'label': 'Aesthetic', 'value': ['valuebench/value_questions_Aesthetic.html'], 'mass': 11}, 'Anxiety Disorder': {'id': 3, 'label': 'Anxiety Disorder', 'value': ['valuebench/value_questions_Anxiety Disorder.html'], 'mass': 12}, 'Breadth of Interest': {'id': 4, 'label': 'Breadth of Interest', 'value': ['valuebench/value_questions_Breadth of Interest.html'], 'mass': 14}, 'Economic': {'id': 5, 'label': 'Economic', 'value': ['valuebench/value_questions_Economic.html'], 'mass': 9}, 'Empathy': {'id': 6, 'label': 'Empathy', 'value': ['valuebench/value_questions_Empathy.html'], 'mass': 16}, 'Organization': {'id': 7, 'label': 'Organization', 'value': ['valuebench/value_questions_Organization.html'], 'mass': 14}, 'Political': {'id': 8, 'label': 'Political', 'value': ['valuebench/value_questions_Political.html'], 'mass': 8}, 'Positive coping': {'id': 9, 'label': 'Positive coping', 'value': ['valuebench/value_questions_Positive coping.html'], 'mass': 11}, 'Religious': {'id': 10, 'label': 'Religious', 'value': ['valuebench/value_questions_Religious.html'], 'mass': 9}, 'Resilience': {'id': 11, 'label': 'Resilience', 'value': ['valuebench/value_questions_Resilience.html'], 'mass': 18}, 'Social': {'id': 12, 'label': 'Social', 'value': ['valuebench/value_questions_Social.html'], 'mass': 10}, 'Social Complexity': {'id': 13, 'label': 'Social Complexity', 'value': ['valuebench/value_questions_Social Complexity.html'], 'mass': 14}, 'Social Cynicism': {'id': 14, 'label': 'Social Cynicism', 'value': ['valuebench/value_questions_Social Cynicism.html'], 'mass': 15}, 'Theoretical': {'id': 15, 'label': 'Theoretical', 'value': ['valuebench/value_questions_Theoretical.html'], 'mass': 11}, 'Uncertainty Avoidance': {'id': 16, 'label': 'Uncertainty Avoidance', 'value': ['valuebench/value_questions_Uncertainty Avoidance.html'], 'mass': 9}, 'Understanding': {'id': 17, 'label': 'Understanding', 'value': ['valuebench/value_questions_Understanding.html'], 'mass': 14}}\n",
      "[{'from': 6, 'to': 1, 'weight': 1, 'line': 'single-arrow', 'label': 'Empathy', 'model': 'gemma'}, {'from': 10, 'to': 1, 'weight': 1, 'line': 'single-arrow', 'label': 'Religious', 'model': 'gemma'}, {'from': 11, 'to': 1, 'weight': 1, 'line': 'single-arrow', 'label': 'Resilience', 'model': 'gemma'}, {'from': 17, 'to': 1, 'weight': 1, 'line': 'single-arrow', 'label': 'Understanding', 'model': 'gemma'}, {'from': 3, 'to': 2, 'weight': 1, 'line': 'single-arrow', 'label': 'Anxiety Disorder', 'model': 'gemma'}, {'from': 6, 'to': 2, 'weight': 1, 'line': 'single-arrow', 'label': 'Empathy', 'model': 'gemma'}, {'from': 7, 'to': 2, 'weight': 1, 'line': 'single-arrow', 'label': 'Organization', 'model': 'gemma'}, {'from': 9, 'to': 2, 'weight': 1, 'line': 'single-arrow', 'label': 'Positive coping', 'model': 'gemma'}, {'from': 11, 'to': 2, 'weight': 1, 'line': 'single-arrow', 'label': 'Resilience', 'model': 'gemma'}, {'from': 12, 'to': 2, 'weight': 1, 'line': 'single-arrow', 'label': 'Social', 'model': 'gemma'}, {'from': 13, 'to': 2, 'weight': 1, 'line': 'single-arrow', 'label': 'Social Complexity', 'model': 'gemma'}, {'from': 4, 'to': 3, 'weight': 1, 'line': 'single-arrow', 'label': 'Breadth of Interest', 'model': 'gemma'}, {'from': 11, 'to': 3, 'weight': 1, 'line': 'single-arrow', 'label': 'Resilience', 'model': 'gemma'}, {'from': 13, 'to': 3, 'weight': 1, 'line': 'single-arrow', 'label': 'Social Complexity', 'model': 'gemma'}, {'from': 14, 'to': 3, 'weight': 1, 'line': 'single-arrow', 'label': 'Social Cynicism', 'model': 'gemma'}, {'from': 15, 'to': 3, 'weight': 1, 'line': 'single-arrow', 'label': 'Theoretical', 'model': 'gemma'}, {'from': 7, 'to': 4, 'weight': 1, 'line': 'single-arrow', 'label': 'Organization', 'model': 'gemma'}, {'from': 10, 'to': 4, 'weight': 1, 'line': 'single-arrow', 'label': 'Religious', 'model': 'gemma'}, {'from': 16, 'to': 4, 'weight': 1, 'line': 'single-arrow', 'label': 'Uncertainty Avoidance', 'model': 'gemma'}, {'from': 17, 'to': 4, 'weight': 1, 'line': 'single-arrow', 'label': 'Understanding', 'model': 'gemma'}, {'from': 6, 'to': 5, 'weight': 1, 'line': 'single-arrow', 'label': 'Empathy', 'model': 'gemma'}, {'from': 7, 'to': 5, 'weight': 1, 'line': 'single-arrow', 'label': 'Organization', 'model': 'gemma'}, {'from': 9, 'to': 5, 'weight': 1, 'line': 'single-arrow', 'label': 'Positive coping', 'model': 'gemma'}, {'from': 13, 'to': 5, 'weight': 1, 'line': 'single-arrow', 'label': 'Social Complexity', 'model': 'gemma'}, {'from': 14, 'to': 5, 'weight': 1, 'line': 'single-arrow', 'label': 'Social Cynicism', 'model': 'gemma'}, {'from': 17, 'to': 5, 'weight': 1, 'line': 'single-arrow', 'label': 'Understanding', 'model': 'gemma'}, {'from': 10, 'to': 6, 'weight': 1, 'line': 'single-arrow', 'label': 'Religious', 'model': 'gemma'}, {'from': 14, 'to': 6, 'weight': 1, 'line': 'single-arrow', 'label': 'Social Cynicism', 'model': 'gemma'}, {'from': 15, 'to': 6, 'weight': 1, 'line': 'single-arrow', 'label': 'Theoretical', 'model': 'gemma'}, {'from': 17, 'to': 6, 'weight': 1, 'line': 'single-arrow', 'label': 'Understanding', 'model': 'gemma'}, {'from': 7, 'to': 9, 'weight': 1, 'line': 'no-arrow', 'label': 'Organization', 'model': 'gemma'}, {'from': 9, 'to': 8, 'weight': 1, 'line': 'single-arrow', 'label': 'Positive coping', 'model': 'gemma'}, {'from': 10, 'to': 8, 'weight': 1, 'line': 'single-arrow', 'label': 'Religious', 'model': 'gemma'}, {'from': 12, 'to': 8, 'weight': 1, 'line': 'single-arrow', 'label': 'Social', 'model': 'gemma'}, {'from': 9, 'to': 10, 'weight': 1, 'line': 'no-arrow', 'label': 'Positive coping', 'model': 'gemma'}, {'from': 12, 'to': 11, 'weight': 1, 'line': 'single-arrow', 'label': 'Social', 'model': 'gemma'}, {'from': 13, 'to': 11, 'weight': 1, 'line': 'single-arrow', 'label': 'Social Complexity', 'model': 'gemma'}, {'from': 14, 'to': 11, 'weight': 1, 'line': 'single-arrow', 'label': 'Social Cynicism', 'model': 'gemma'}, {'from': 12, 'to': 15, 'weight': 1, 'line': 'single-arrow', 'label': 'Social', 'model': 'gemma'}, {'from': 12, 'to': 16, 'weight': 1, 'line': 'no-arrow', 'label': 'Social', 'model': 'gemma'}, {'from': 13, 'to': 15, 'weight': 1, 'line': 'single-arrow', 'label': 'Social Complexity', 'model': 'gemma'}, {'from': 16, 'to': 14, 'weight': 1, 'line': 'single-arrow', 'label': 'Uncertainty Avoidance', 'model': 'gemma'}, {'from': 17, 'to': 14, 'weight': 1, 'line': 'single-arrow', 'label': 'Understanding', 'model': 'gemma'}, {'from': 16, 'to': 15, 'weight': 1, 'line': 'single-arrow', 'label': 'Uncertainty Avoidance', 'model': 'gemma'}, {'from': 1, 'to': 4, 'weight': 1, 'line': 'single-arrow', 'label': 'Achievement', 'model': 'llama'}, {'from': 1, 'to': 6, 'weight': 1, 'line': 'single-arrow', 'label': 'Achievement', 'model': 'llama'}, {'from': 9, 'to': 1, 'weight': 1, 'line': 'single-arrow', 'label': 'Positive coping', 'model': 'llama'}, {'from': 10, 'to': 1, 'weight': 1, 'line': 'single-arrow', 'label': 'Religious', 'model': 'llama'}, {'from': 3, 'to': 2, 'weight': 1, 'line': 'single-arrow', 'label': 'Anxiety Disorder', 'model': 'llama'}, {'from': 8, 'to': 2, 'weight': 1, 'line': 'single-arrow', 'label': 'Political', 'model': 'llama'}, {'from': 16, 'to': 2, 'weight': 1, 'line': 'single-arrow', 'label': 'Uncertainty Avoidance', 'model': 'llama'}, {'from': 4, 'to': 3, 'weight': 1, 'line': 'single-arrow', 'label': 'Breadth of Interest', 'model': 'llama'}, {'from': 3, 'to': 7, 'weight': 1, 'line': 'single-arrow', 'label': 'Anxiety Disorder', 'model': 'llama'}, {'from': 4, 'to': 11, 'weight': 1, 'line': 'single-arrow', 'label': 'Breadth of Interest', 'model': 'llama'}, {'from': 4, 'to': 12, 'weight': 1, 'line': 'single-arrow', 'label': 'Breadth of Interest', 'model': 'llama'}, {'from': 4, 'to': 13, 'weight': 1, 'line': 'single-arrow', 'label': 'Breadth of Interest', 'model': 'llama'}, {'from': 4, 'to': 14, 'weight': 1, 'line': 'single-arrow', 'label': 'Breadth of Interest', 'model': 'llama'}, {'from': 4, 'to': 17, 'weight': 1, 'line': 'single-arrow', 'label': 'Breadth of Interest', 'model': 'llama'}, {'from': 5, 'to': 11, 'weight': 1, 'line': 'single-arrow', 'label': 'Economic', 'model': 'llama'}, {'from': 7, 'to': 6, 'weight': 1, 'line': 'single-arrow', 'label': 'Organization', 'model': 'llama'}, {'from': 11, 'to': 6, 'weight': 1, 'line': 'single-arrow', 'label': 'Resilience', 'model': 'llama'}, {'from': 6, 'to': 12, 'weight': 1, 'line': 'single-arrow', 'label': 'Empathy', 'model': 'llama'}, {'from': 14, 'to': 6, 'weight': 1, 'line': 'single-arrow', 'label': 'Social Cynicism', 'model': 'llama'}, {'from': 17, 'to': 6, 'weight': 1, 'line': 'single-arrow', 'label': 'Understanding', 'model': 'llama'}, {'from': 7, 'to': 9, 'weight': 1, 'line': 'single-arrow', 'label': 'Organization', 'model': 'llama'}, {'from': 7, 'to': 11, 'weight': 1, 'line': 'single-arrow', 'label': 'Organization', 'model': 'llama'}, {'from': 7, 'to': 13, 'weight': 1, 'line': 'single-arrow', 'label': 'Organization', 'model': 'llama'}, {'from': 7, 'to': 14, 'weight': 1, 'line': 'single-arrow', 'label': 'Organization', 'model': 'llama'}, {'from': 15, 'to': 7, 'weight': 1, 'line': 'single-arrow', 'label': 'Theoretical', 'model': 'llama'}, {'from': 7, 'to': 17, 'weight': 1, 'line': 'single-arrow', 'label': 'Organization', 'model': 'llama'}, {'from': 8, 'to': 14, 'weight': 1, 'line': 'single-arrow', 'label': 'Political', 'model': 'llama'}, {'from': 8, 'to': 17, 'weight': 1, 'line': 'single-arrow', 'label': 'Political', 'model': 'llama'}, {'from': 9, 'to': 11, 'weight': 1, 'line': 'single-arrow', 'label': 'Positive coping', 'model': 'llama'}, {'from': 15, 'to': 9, 'weight': 1, 'line': 'single-arrow', 'label': 'Theoretical', 'model': 'llama'}, {'from': 10, 'to': 16, 'weight': 1, 'line': 'no-arrow', 'label': 'Religious', 'model': 'llama'}, {'from': 13, 'to': 11, 'weight': 1, 'line': 'single-arrow', 'label': 'Social Complexity', 'model': 'llama'}, {'from': 15, 'to': 11, 'weight': 1, 'line': 'single-arrow', 'label': 'Theoretical', 'model': 'llama'}, {'from': 17, 'to': 11, 'weight': 1, 'line': 'single-arrow', 'label': 'Understanding', 'model': 'llama'}, {'from': 15, 'to': 12, 'weight': 1, 'line': 'single-arrow', 'label': 'Theoretical', 'model': 'llama'}, {'from': 14, 'to': 13, 'weight': 1, 'line': 'single-arrow', 'label': 'Social Cynicism', 'model': 'llama'}, {'from': 15, 'to': 13, 'weight': 1, 'line': 'single-arrow', 'label': 'Theoretical', 'model': 'llama'}, {'from': 16, 'to': 13, 'weight': 1, 'line': 'single-arrow', 'label': 'Uncertainty Avoidance', 'model': 'llama'}, {'from': 13, 'to': 17, 'weight': 1, 'line': 'single-arrow', 'label': 'Social Complexity', 'model': 'llama'}, {'from': 14, 'to': 17, 'weight': 1, 'line': 'single-arrow', 'label': 'Social Cynicism', 'model': 'llama'}, {'from': 9, 'to': 11, 'weight': 1, 'line': 'single-arrow', 'label': 'Positive coping', 'model': 'reference'}, {'from': 6, 'to': 12, 'weight': 1, 'line': 'single-arrow', 'label': 'Empathy', 'model': 'reference'}, {'from': 6, 'to': 11, 'weight': 1, 'line': 'single-arrow', 'label': 'Empathy', 'model': 'reference'}, {'from': 11, 'to': 1, 'weight': 1, 'line': 'single-arrow', 'label': 'Resilience', 'model': 'reference'}, {'from': 13, 'to': 4, 'weight': 1, 'line': 'single-arrow', 'label': 'Social Complexity', 'model': 'reference'}, {'from': 16, 'to': 3, 'weight': 1, 'line': 'single-arrow', 'label': 'Uncertainty Avoidance', 'model': 'reference'}, {'from': 3, 'to': 14, 'weight': 1, 'line': 'single-arrow', 'label': 'Anxiety Disorder', 'model': 'reference'}, {'from': 5, 'to': 7, 'weight': 1, 'line': 'single-arrow', 'label': 'Economic', 'model': 'reference'}, {'from': 8, 'to': 14, 'weight': 1, 'line': 'single-arrow', 'label': 'Political', 'model': 'reference'}, {'from': 10, 'to': 17, 'weight': 1, 'line': 'single-arrow', 'label': 'Religious', 'model': 'reference'}]\n"
     ]
    }
   ],
   "source": [
    "import json\n",
    "with open('value_graph_data1.json', 'r', encoding='utf-8') as f:\n",
    "    data = json.load(f)\n",
    "    print(data)\n",
    "    nodes = {}\n",
    "    edges = []\n",
    "    nodes_j = data['nodes']\n",
    "    edges_j = data['edges']\n",
    "    index = 1\n",
    "    # print(nodes_j.keys())\n",
    "    # print(edges_j)\n",
    "    for key, value in nodes_j.items():\n",
    "        nodes[key] = {\n",
    "            \"id\":index,\n",
    "            \"label\":key,\n",
    "            \"value\":value,\n",
    "            \"mass\":1\n",
    "        }\n",
    "        index += 1\n",
    "    \n",
    "    for model, model_edges in edges_j.items():\n",
    "        print(model)\n",
    "        for edge in model_edges:\n",
    "            edges.append({\n",
    "                \"from\":nodes[edge[0]][\"id\"],\n",
    "                \"to\":nodes[edge[1]][\"id\"],\n",
    "                \"weight\":edge[2],\n",
    "                \"line\":edge[3],\n",
    "                \"label\": \"->\".join(edge[0:1]),\n",
    "                \"model\": model\n",
    "            })\n",
    "            nodes[edge[0]][\"mass\"] += 1\n",
    "            nodes[edge[1]][\"mass\"] += 1\n",
    "\n",
    "print(nodes)\n",
    "print(edges)\n",
    "    \n"
   ]
  },
  {
   "cell_type": "code",
   "execution_count": 30,
   "metadata": {},
   "outputs": [
    {
     "name": "stdout",
     "output_type": "stream",
     "text": [
      "[(850.0, 250.0), (809.4833376426135, 466.74499971229176), (693.4053503323955, 654.2173861879344), (517.4430134659231, 787.0979748130374), (305.3610156779812, 847.4405057770207), (85.80220595675027, 827.0953859036914), (-111.58078182755378, 728.8103363681437), (-260.1302814377684, 565.8592977264136), (-339.783859810341, 360.2497106899422), (-339.783859810341, 139.75028931005792), (-260.1302814377685, -65.8592977264135), (-111.58078182755429, -228.81033636814334), (85.80220595675013, -327.0953859036914), (305.36101567798147, -347.4405057770207), (517.4430134659226, -287.0979748130376), (693.4053503323951, -154.21738618793466), (809.4833376426135, 33.255000287708185)]\n"
     ]
    },
    {
     "ename": "AttributeError",
     "evalue": "'dict' object has no attribute 'configure'",
     "output_type": "error",
     "traceback": [
      "\u001b[0;31m---------------------------------------------------------------------------\u001b[0m",
      "\u001b[0;31mAttributeError\u001b[0m                            Traceback (most recent call last)",
      "Cell \u001b[0;32mIn[30], line 69\u001b[0m\n\u001b[1;32m     48\u001b[0m net\u001b[38;5;241m.\u001b[39mset_options(\u001b[38;5;124m\"\"\"\u001b[39m\n\u001b[1;32m     49\u001b[0m \u001b[38;5;124mvar options = \u001b[39m\u001b[38;5;124m{\u001b[39m\n\u001b[1;32m     50\u001b[0m \u001b[38;5;124m\"\u001b[39m\u001b[38;5;124mnodes\u001b[39m\u001b[38;5;124m\"\u001b[39m\u001b[38;5;124m: \u001b[39m\u001b[38;5;124m{\u001b[39m\n\u001b[0;32m   (...)\u001b[0m\n\u001b[1;32m     55\u001b[0m \u001b[38;5;124m}\u001b[39m\n\u001b[1;32m     56\u001b[0m \u001b[38;5;124m\"\"\"\u001b[39m)\n\u001b[1;32m     60\u001b[0m \u001b[38;5;66;03m#add legend for each model, align the legends' postions in a row\u001b[39;00m\n\u001b[1;32m     61\u001b[0m \u001b[38;5;66;03m# y = 0\u001b[39;00m\n\u001b[1;32m     62\u001b[0m \u001b[38;5;66;03m# for model in model_color:\u001b[39;00m\n\u001b[0;32m   (...)\u001b[0m\n\u001b[1;32m     65\u001b[0m \u001b[38;5;66;03m#         net.add_node(model, label=model, color=model_color[model], shape='box', size=3, mass=1, x=-10, y=y, physics=False)\u001b[39;00m\n\u001b[1;32m     66\u001b[0m \u001b[38;5;66;03m#         y += 1\u001b[39;00m\n\u001b[0;32m---> 69\u001b[0m \u001b[43mnet\u001b[49m\u001b[38;5;241;43m.\u001b[39;49m\u001b[43mshow_buttons\u001b[49m\u001b[43m(\u001b[49m\u001b[43mfilter_\u001b[49m\u001b[38;5;241;43m=\u001b[39;49m\u001b[43m[\u001b[49m\u001b[38;5;124;43m'\u001b[39;49m\u001b[38;5;124;43mphysics\u001b[39;49m\u001b[38;5;124;43m'\u001b[39;49m\u001b[43m]\u001b[49m\u001b[43m)\u001b[49m\n\u001b[1;32m     70\u001b[0m net\u001b[38;5;241m.\u001b[39mtoggle_physics(\u001b[38;5;28;01mTrue\u001b[39;00m)\n\u001b[1;32m     71\u001b[0m net\u001b[38;5;241m.\u001b[39mset_edge_smooth(\u001b[38;5;124m'\u001b[39m\u001b[38;5;124mdynamic\u001b[39m\u001b[38;5;124m'\u001b[39m)\n",
      "File \u001b[0;32m~/.pyenv/versions/pyenv_sae/lib/python3.11/site-packages/pyvis/network.py:959\u001b[0m, in \u001b[0;36mNetwork.show_buttons\u001b[0;34m(self, filter_)\u001b[0m\n\u001b[1;32m    936\u001b[0m \u001b[38;5;250m\u001b[39m\u001b[38;5;124;03m\"\"\"\u001b[39;00m\n\u001b[1;32m    937\u001b[0m \u001b[38;5;124;03mDisplays or hides certain widgets to dynamically modify the\u001b[39;00m\n\u001b[1;32m    938\u001b[0m \u001b[38;5;124;03mnetwork.\u001b[39;00m\n\u001b[0;32m   (...)\u001b[0m\n\u001b[1;32m    956\u001b[0m \u001b[38;5;124;03m:type filter_: bool or list:\u001b[39;00m\n\u001b[1;32m    957\u001b[0m \u001b[38;5;124;03m\"\"\"\u001b[39;00m\n\u001b[1;32m    958\u001b[0m \u001b[38;5;28mself\u001b[39m\u001b[38;5;241m.\u001b[39mconf \u001b[38;5;241m=\u001b[39m \u001b[38;5;28;01mTrue\u001b[39;00m\n\u001b[0;32m--> 959\u001b[0m \u001b[38;5;28;43mself\u001b[39;49m\u001b[38;5;241;43m.\u001b[39;49m\u001b[43moptions\u001b[49m\u001b[38;5;241;43m.\u001b[39;49m\u001b[43mconfigure\u001b[49m \u001b[38;5;241m=\u001b[39m Configure(enabled\u001b[38;5;241m=\u001b[39m\u001b[38;5;28;01mTrue\u001b[39;00m, filter_\u001b[38;5;241m=\u001b[39mfilter_)\n\u001b[1;32m    960\u001b[0m \u001b[38;5;28mself\u001b[39m\u001b[38;5;241m.\u001b[39mwidget \u001b[38;5;241m=\u001b[39m \u001b[38;5;28;01mTrue\u001b[39;00m\n",
      "\u001b[0;31mAttributeError\u001b[0m: 'dict' object has no attribute 'configure'"
     ]
    }
   ],
   "source": [
    "import math\n",
    "from pyvis.network import Network\n",
    "import networkx as nx\n",
    "\n",
    "def get_circle_nodes(n, r, x_center, y_center):\n",
    "    nodes = []\n",
    "    for i in range(n):\n",
    "        angle = 2 * math.pi * i / n  # 计算每个节点的角度\n",
    "        x_i = x_center + r * math.cos(angle)  # 计算x坐标\n",
    "        y_i = y_center + r * math.sin(angle)  # 计算y坐标\n",
    "        nodes.append((x_i, y_i))\n",
    "    return nodes\n",
    "\n",
    "positions = get_circle_nodes(len(nodes), r=600, x_center=250, y_center=250)\n",
    "print(positions)\n",
    "model_color = {\n",
    "    \"gemma\":\"#F4C6E5\", # 粉色\n",
    "    \"llama\":\"#54DEFD\", # 蓝色\n",
    "    \"reference\":\"#B1D076\", #绿色\n",
    "    #\"clean\": \"#FF0000\" #红色\n",
    "}\n",
    "model_smooth = {\n",
    "    \"gemma\":{\"type\":\"curvedCW\", \"roundness\": 0.2}, \n",
    "    \"llama\":{\"type\":\"curvedCCW\", \"roundness\": 0.2}, \n",
    "    \"reference\":{\"type\":\"curvedCW\", \"roundness\": 0},\n",
    "    #\"clean\": {\"type\":\"curvedCCW\", \"roundness\": 0}\n",
    "}\n",
    "edge_line = {\n",
    "    \"single-arrow\":\"to\",\n",
    "    \"no-arrow\":\"\",\n",
    "    \"double-arrow\": \"to,from\"\n",
    "}\n",
    "\n",
    "#g = nx.MultiGraph()\n",
    "g = nx.MultiDiGraph()\n",
    "for node in nodes:\n",
    "    g.add_node(nodes[node]['id'], label=node, color='#FEAD34', shape='dot', size=nodes[node]['mass'],  mass=nodes[node]['mass'])\n",
    "id = 0\n",
    "for edge in edges:\n",
    "    if edge[\"model\"] != \"llama\":\n",
    "    #if True:\n",
    "        g.add_edge(edge['from'], edge['to'], id=id, lebel=edge[\"label\"], smooth=model_smooth[edge[\"model\"]], color=model_color[edge[\"model\"]], arrows=edge_line[edge[\"line\"]], width=2)\n",
    "    id += 1\n",
    "\n",
    "net = Network(directed=True, height='1000px', width='50%', bgcolor='white', font_color='#222222',  select_menu=True, filter_menu=True)\n",
    "\n",
    "net.from_nx(g)\n",
    "net.set_options(\"\"\"\n",
    "var options = {\n",
    "\"nodes\": {\n",
    "    \"font\": {\n",
    "      \"size\": 30\n",
    "    }\n",
    "  }\n",
    "}\n",
    "\"\"\")\n",
    "                \n",
    "\n",
    "\n",
    "#add legend for each model, align the legends' postions in a row\n",
    "# y = 0\n",
    "# for model in model_color:\n",
    "#     if model != \"gemma\":\n",
    "#     #if True:\n",
    "#         net.add_node(model, label=model, color=model_color[model], shape='box', size=3, mass=1, x=-10, y=y, physics=False)\n",
    "#         y += 1\n",
    "    \n",
    "\n",
    "# net.show_buttons(filter_=['physics'])\n",
    "# net.toggle_physics(True)\n",
    "# net.set_edge_smooth('dynamic')\n",
    "net.show('simple_network.html', notebook=False)\n"
   ]
  },
  {
   "cell_type": "code",
   "execution_count": null,
   "metadata": {},
   "outputs": [],
   "source": []
  }
 ],
 "metadata": {
  "kernelspec": {
   "display_name": "pyenv_sae",
   "language": "python",
   "name": "python3"
  },
  "language_info": {
   "codemirror_mode": {
    "name": "ipython",
    "version": 3
   },
   "file_extension": ".py",
   "mimetype": "text/x-python",
   "name": "python",
   "nbconvert_exporter": "python",
   "pygments_lexer": "ipython3",
   "version": "3.11.9"
  },
  "orig_nbformat": 4
 },
 "nbformat": 4,
 "nbformat_minor": 2
}
