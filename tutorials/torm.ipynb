{
 "cells": [
  {
   "cell_type": "markdown",
   "metadata": {
    "id": "MNk7IylTv610"
   },
   "source": [
    "# Loading and Analysing Pre-Trained Sparse Autoencoders"
   ]
  },
  {
   "cell_type": "markdown",
   "metadata": {
    "id": "i_DusoOvwV0M"
   },
   "source": [
    "## Imports & Installs"
   ]
  },
  {
   "cell_type": "markdown",
   "metadata": {
    "id": "7aGgWkbav610"
   },
   "source": [
    "## Set Up"
   ]
  },
  {
   "cell_type": "code",
   "execution_count": null,
   "metadata": {},
   "outputs": [],
   "source": [
    "#edges_gemma_nosteer = []\n",
    "# edges_gemma_nosteer.append(['Positive coping', 'Understanding', 1, 'single-arrow'])\n",
    "# edges_gemma_nosteer.append(['Resilience', 'Understanding', 1, 'single-arrow'])\n",
    "# edges_llama_nosteer.append(['Social Complexity', 'Theoretical', 1, 'single-arrow'])\n",
    "# edges_llama_nosteer.append(['Anxiety Disorder', 'Theoretical', 1, 'single-arrow'])\n",
    "# edges_llama_nosteer.append(['Uncertainty Avoidance', 'Theoretical', 1, 'single-arrow'])\n",
    "# edges_llama_nosteer.append(['Aesthetic', 'Theoretical', 1, 'single-arrow'])\n",
    "# edges_llama_nosteer.append(['Breadth of Interest', 'Theoretical', 1, 'single-arrow'])"
   ]
  }
 ],
 "metadata": {
  "accelerator": "GPU",
  "colab": {
   "gpuType": "T4",
   "provenance": []
  },
  "kernelspec": {
   "display_name": ".venv",
   "language": "python",
   "name": "python3"
  },
  "language_info": {
   "codemirror_mode": {
    "name": "ipython",
    "version": 3
   },
   "file_extension": ".py",
   "mimetype": "text/x-python",
   "name": "python",
   "nbconvert_exporter": "python",
   "pygments_lexer": "ipython3",
   "version": "3.11.9"
  }
 },
 "nbformat": 4,
 "nbformat_minor": 4
}
